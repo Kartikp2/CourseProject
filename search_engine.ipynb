{
 "cells": [
  {
   "cell_type": "code",
   "execution_count": 6,
   "id": "825c4552",
   "metadata": {},
   "outputs": [],
   "source": [
    "import math\n",
    "import metapy\n",
    "import pytoml\n",
    "import csv\n",
    "import pandas as pd\n",
    "import os\n",
    "import shutil\n",
    "\n",
    "\n",
    "class SearchEngine:\n",
    "    def __init__(self, path, config):\n",
    "        self.path = path\n",
    "        self.df = self.build_corpus()\n",
    "        self.config = config\n",
    "        self.idx = self.build_idx(config)\n",
    "        self.query = metapy.index.Document()\n",
    "        self.ranker = self.ranker(self.config)\n",
    "\n",
    "        \n",
    "    def build_idx(self, config):\n",
    "        if os.path.isdir(self.path[0:self.path.rfind('/') + 1] + 'idx'):\n",
    "            path = self.path[0:self.path.rfind('/') + 1] + 'idx'\n",
    "            shutil.rmtree(path)\n",
    "        idx = metapy.index.make_inverted_index(config)\n",
    "        return idx\n",
    "        \n",
    "    def build_corpus(self):\n",
    "        \n",
    "        try:\n",
    "            df = pd.read_csv(self.path)\n",
    "        except FileNotFoundError:\n",
    "            print(\"Could not open/read file\")\n",
    "            \n",
    "        textcolumn = ['content'] # ignore the other columns\n",
    "        new_df_text = pd.DataFrame(df, columns=textcolumn)\n",
    "        \n",
    "        file = self.path[0:self.path.rfind('/') + 1]\n",
    "        new_data_file = file + 'course.dat'\n",
    "        with open(new_data_file, 'w') as f:\n",
    "            for index, row in df.iterrows():\n",
    "                text = row['content']\n",
    "                f.write(text)\n",
    "                f.write('\\n')\n",
    "                \n",
    "        src = new_data_file\n",
    "        dst = self.path[0:self.path.rfind('/') + 1] + 'course'\n",
    "\n",
    "        shutil.copy2(src,dst)\n",
    "        return df\n",
    "\n",
    "    def ranker(self, config):\n",
    "         return metapy.index.OkapiBM25(k1=1.65, b=0.75, k3=2.6)\n",
    "        \n",
    "    def ranker_score(self):\n",
    "        ranker = self.ranker\n",
    "        top_docs = ranker.score(self.idx, self.query, num_results=5)\n",
    "        return top_docs\n",
    "\n",
    "    def query_result(self,text):\n",
    "        self.query.content(text) \n",
    "        top_docs = self.ranker_score()\n",
    "        top_links = []\n",
    "        for num, (d_id, _) in enumerate(top_docs):\n",
    "            course = self.df.iloc[d_id-1].course_id\n",
    "            week = self.df.iloc[d_id-1].week_nbr \n",
    "            lesson = self.df.iloc[d_id-1].video_id\n",
    "            top_links.append((course,week,lesson)) # (course, week, lesson)\n",
    "        return top_links"
   ]
  },
  {
   "cell_type": "code",
   "execution_count": 7,
   "id": "1159b573",
   "metadata": {},
   "outputs": [
    {
     "name": "stdout",
     "output_type": "stream",
     "text": [
      "[('cs-416-dv', 10, 2)]\n"
     ]
    }
   ],
   "source": [
    "q1 = SearchEngine('/Users/kartikpatel/Desktop/CS 410/Final Project/CourseProject/courseera_video_lessons.csv', 'config.toml')\n",
    "print(q1.query_result('toprogramming'))"
   ]
  },
  {
   "cell_type": "code",
   "execution_count": null,
   "id": "e848a6dd",
   "metadata": {},
   "outputs": [],
   "source": []
  }
 ],
 "metadata": {
  "kernelspec": {
   "display_name": "Python 3",
   "language": "python",
   "name": "python3"
  },
  "language_info": {
   "codemirror_mode": {
    "name": "ipython",
    "version": 3
   },
   "file_extension": ".py",
   "mimetype": "text/x-python",
   "name": "python",
   "nbconvert_exporter": "python",
   "pygments_lexer": "ipython3",
   "version": "3.5.6"
  }
 },
 "nbformat": 4,
 "nbformat_minor": 5
}
