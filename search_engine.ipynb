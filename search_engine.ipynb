{
 "cells": [
  {
   "cell_type": "code",
   "execution_count": 1,
   "metadata": {},
   "outputs": [
    {
     "output_type": "error",
     "ename": "ModuleNotFoundError",
     "evalue": "No module named 'metapy'",
     "traceback": [
      "\u001b[0;31m---------------------------------------------------------------------------\u001b[0m",
      "\u001b[0;31mModuleNotFoundError\u001b[0m                       Traceback (most recent call last)",
      "\u001b[0;32m/var/folders/rj/2fp71jsx73531rgc9nq69j300000gn/T/ipykernel_91646/2757307791.py\u001b[0m in \u001b[0;36m<module>\u001b[0;34m\u001b[0m\n\u001b[1;32m      1\u001b[0m \u001b[0;32mimport\u001b[0m \u001b[0mmath\u001b[0m\u001b[0;34m\u001b[0m\u001b[0;34m\u001b[0m\u001b[0m\n\u001b[0;32m----> 2\u001b[0;31m \u001b[0;32mimport\u001b[0m \u001b[0mmetapy\u001b[0m\u001b[0;34m\u001b[0m\u001b[0;34m\u001b[0m\u001b[0m\n\u001b[0m\u001b[1;32m      3\u001b[0m \u001b[0;32mimport\u001b[0m \u001b[0mpytoml\u001b[0m\u001b[0;34m\u001b[0m\u001b[0;34m\u001b[0m\u001b[0m\n\u001b[1;32m      4\u001b[0m \u001b[0;32mimport\u001b[0m \u001b[0mcsv\u001b[0m\u001b[0;34m\u001b[0m\u001b[0;34m\u001b[0m\u001b[0m\n\u001b[1;32m      5\u001b[0m \u001b[0;32mimport\u001b[0m \u001b[0mpandas\u001b[0m \u001b[0;32mas\u001b[0m \u001b[0mpd\u001b[0m\u001b[0;34m\u001b[0m\u001b[0;34m\u001b[0m\u001b[0m\n",
      "\u001b[0;31mModuleNotFoundError\u001b[0m: No module named 'metapy'"
     ]
    }
   ],
   "source": [
    "import math\n",
    "import metapy\n",
    "import pytoml\n",
    "import csv\n",
    "import pandas as pd\n",
    "\n",
    "\n",
    "class SearchEngine:\n",
    "    def __init__(self, path, config):\n",
    "        self.path = path\n",
    "        self.idx = metapy.index.make_inverted_index(config)\n",
    "        self.config = config\n",
    "        self.query = metapy.index.Document()\n",
    "        self.ranker = self.ranker(self.config)\n",
    "        \n",
    "    def build_corpus(self):\n",
    "        df = pd.read_csv(self.path)\n",
    "        textcolumn = ['segment_txt'] # ignore the other columns\n",
    "        new_df_text = pd.DataFrame(df, columns=textcolumn)\n",
    "        with open('course.dat', 'w') as f:\n",
    "            for index, row in df.iterrows():\n",
    "                text = row['segment_txt']\n",
    "                f.write(text)\n",
    "                f.write('\\n')\n",
    "        return df\n",
    "\n",
    "    def ranker(self, config):\n",
    "         return metapy.index.OkapiBM25(k1=1.65, b=0.75, k3=2.6)\n",
    "        \n",
    "    def ranker_score(self):\n",
    "        ranker = self.ranker\n",
    "        top_docs = ranker.score(self.idx, self.query, num_results=5)\n",
    "        return top_docs\n",
    "\n",
    "    def query_result(self,text):\n",
    "        self.query.content(text) \n",
    "        top_docs = self.ranker_score()\n",
    "        df = self.build_corpus()\n",
    "        top_links = []\n",
    "        for num, (d_id, _) in enumerate(top_docs):\n",
    "            top_links.append(df.loc[d_id].segment_link)\n",
    "        return top_links"
   ]
  },
  {
   "cell_type": "code",
   "execution_count": null,
   "metadata": {},
   "outputs": [],
   "source": []
  }
 ],
 "metadata": {
  "kernelspec": {
   "name": "python3",
   "display_name": "Python 3.8.2 64-bit",
   "metadata": {
    "interpreter": {
     "hash": "31f2aee4e71d21fbe5cf8b01ff0e069b9275f58929596ceb00d14d90e3e16cd6"
    }
   }
  }
 },
 "nbformat": 4,
 "nbformat_minor": 5
}