{
 "cells": [
  {
   "cell_type": "code",
   "execution_count": 13,
   "id": "d969dca2",
   "metadata": {},
   "outputs": [],
   "source": [
    "import math\n",
    "import metapy\n",
    "import pytoml\n",
    "import csv\n",
    "import pandas as pd\n",
    "import os\n"
   ]
  },
  {
   "cell_type": "code",
   "execution_count": 2,
   "id": "c72ef05a",
   "metadata": {},
   "outputs": [
    {
     "name": "stdout",
     "output_type": "stream",
     "text": [
      "  course_id  week_nbr  video_id  \\\n",
      "0    cs-410         1         1   \n",
      "1    cs-410         1         2   \n",
      "2    cs-410         1         3   \n",
      "3    cs-410         1         4   \n",
      "4    cs-410         1         5   \n",
      "\n",
      "                                             content  \n",
      "0  Hello welcome to CS410 DSO Text Information Sy...  \n",
      "1  [SOUND] >> This lecture is about Natural Langu...  \n",
      "2  [SOUND] In this lecture,we're going to talk ab...  \n",
      "3  [MUSIC] This lecture is aboutthe text retrieva...  \n",
      "4  [SOUND] This lecture is a overview oftext retr...  \n"
     ]
    }
   ],
   "source": [
    "df = pd.read_csv ('/Users/kartikpatel/Desktop/CS 410/Final Project/CourseProject/courseera_video_lessons.csv')\n",
    "print(df.head())"
   ]
  },
  {
   "cell_type": "code",
   "execution_count": 3,
   "id": "f7ecf7d8",
   "metadata": {},
   "outputs": [
    {
     "name": "stdout",
     "output_type": "stream",
     "text": [
      "Index(['course_id', 'week_nbr', 'video_id', 'content'], dtype='object')\n"
     ]
    }
   ],
   "source": [
    "print(df.columns)"
   ]
  },
  {
   "cell_type": "code",
   "execution_count": 4,
   "id": "6720a9f3",
   "metadata": {},
   "outputs": [],
   "source": [
    "segcolumns = ['content']"
   ]
  },
  {
   "cell_type": "code",
   "execution_count": 5,
   "id": "6f731338",
   "metadata": {},
   "outputs": [],
   "source": [
    "new_df_text = pd.DataFrame(df, columns=segcolumns)"
   ]
  },
  {
   "cell_type": "code",
   "execution_count": 6,
   "id": "94cdcecf",
   "metadata": {},
   "outputs": [
    {
     "name": "stdout",
     "output_type": "stream",
     "text": [
      "                                               content\n",
      "0    Hello welcome to CS410 DSO Text Information Sy...\n",
      "1    [SOUND] >> This lecture is about Natural Langu...\n",
      "2    [SOUND] In this lecture,we're going to talk ab...\n",
      "3    [MUSIC] This lecture is aboutthe text retrieva...\n",
      "4    [SOUND] This lecture is a overview oftext retr...\n",
      "..                                                 ...\n",
      "275  So, now that we understand that logistic regre...\n",
      "276  Now, we'll take a longer look at using logisti...\n",
      "277  Is a credit card transactionreal or fraudulent...\n",
      "278  So, now we've seen how logistic regression cou...\n",
      "279  So now we'll go ahead and take a look at a ver...\n",
      "\n",
      "[280 rows x 1 columns]\n"
     ]
    }
   ],
   "source": [
    "print(new_df_text)"
   ]
  },
  {
   "cell_type": "code",
   "execution_count": 7,
   "id": "00c39e2b",
   "metadata": {},
   "outputs": [
    {
     "name": "stdout",
     "output_type": "stream",
     "text": [
      "                                               content\n",
      "0    Hello welcome to CS410 DSO Text Information Sy...\n",
      "1    [SOUND] >> This lecture is about Natural Langu...\n",
      "2    [SOUND] In this lecture,we're going to talk ab...\n",
      "3    [MUSIC] This lecture is aboutthe text retrieva...\n",
      "4    [SOUND] This lecture is a overview oftext retr...\n",
      "..                                                 ...\n",
      "275  So, now that we understand that logistic regre...\n",
      "276  Now, we'll take a longer look at using logisti...\n",
      "277  Is a credit card transactionreal or fraudulent...\n",
      "278  So, now we've seen how logistic regression cou...\n",
      "279  So now we'll go ahead and take a look at a ver...\n",
      "\n",
      "[280 rows x 1 columns]\n"
     ]
    }
   ],
   "source": [
    "print(new_df_text)"
   ]
  },
  {
   "cell_type": "code",
   "execution_count": 8,
   "id": "d413409d",
   "metadata": {},
   "outputs": [],
   "source": [
    "corpus = []\n",
    "for index, row in df.iterrows():\n",
    "    text = row['content']\n",
    "    corpus.append(text)"
   ]
  },
  {
   "cell_type": "code",
   "execution_count": 9,
   "id": "8e10a19d",
   "metadata": {},
   "outputs": [],
   "source": [
    "with open('course.dat', 'w') as f:\n",
    "    for text in corpus:\n",
    "        f.write(text)\n",
    "        f.write('\\n')"
   ]
  },
  {
   "cell_type": "code",
   "execution_count": 12,
   "id": "e114e701",
   "metadata": {},
   "outputs": [
    {
     "name": "stdout",
     "output_type": "stream",
     "text": [
      "<metapy.metapy.index.InvertedIndex object at 0x7ff93b822730>\n"
     ]
    }
   ],
   "source": [
    "idx = metapy.index.make_inverted_index('config.toml')\n",
    "print(idx)"
   ]
  },
  {
   "cell_type": "code",
   "execution_count": 14,
   "id": "ca9bc00a",
   "metadata": {},
   "outputs": [
    {
     "ename": "NameError",
     "evalue": "name 'path' is not defined",
     "output_type": "error",
     "traceback": [
      "\u001b[0;31m---------------------------------------------------------------------------\u001b[0m",
      "\u001b[0;31mNameError\u001b[0m                                 Traceback (most recent call last)",
      "\u001b[0;32m<ipython-input-14-4c7d06531bb5>\u001b[0m in \u001b[0;36m<module>\u001b[0;34m()\u001b[0m\n\u001b[0;32m----> 1\u001b[0;31m \u001b[0mprint\u001b[0m \u001b[0;34m(\u001b[0m\u001b[0;34m\"directory exists:\"\u001b[0m \u001b[0;34m+\u001b[0m \u001b[0mstr\u001b[0m\u001b[0;34m(\u001b[0m\u001b[0mpath\u001b[0m\u001b[0;34m.\u001b[0m\u001b[0misdir\u001b[0m\u001b[0;34m(\u001b[0m\u001b[0;34m'/Users/kartikpatel/Desktop/CS 410/Final Project/CourseProject/idx'\u001b[0m\u001b[0;34m)\u001b[0m\u001b[0;34m)\u001b[0m\u001b[0;34m)\u001b[0m\u001b[0;34m\u001b[0m\u001b[0m\n\u001b[0m",
      "\u001b[0;31mNameError\u001b[0m: name 'path' is not defined"
     ]
    }
   ],
   "source": [
    "print (\"directory exists:\" + str(path.isdir('/Users/kartikpatel/Desktop/CS 410/Final Project/CourseProject/idx')))\n"
   ]
  },
  {
   "cell_type": "code",
   "execution_count": 11,
   "id": "f99d2e89",
   "metadata": {
    "collapsed": true
   },
   "outputs": [
    {
     "data": {
      "text/plain": [
       "74"
      ]
     },
     "execution_count": 11,
     "metadata": {},
     "output_type": "execute_result"
    }
   ],
   "source": [
    "idx.num_docs()"
   ]
  },
  {
   "cell_type": "code",
   "execution_count": 74,
   "id": "4353819c",
   "metadata": {},
   "outputs": [
    {
     "data": {
      "text/plain": [
       "7312"
      ]
     },
     "execution_count": 74,
     "metadata": {},
     "output_type": "execute_result"
    }
   ],
   "source": [
    "idx.unique_terms()"
   ]
  },
  {
   "cell_type": "code",
   "execution_count": 75,
   "id": "1eaa6ff8",
   "metadata": {},
   "outputs": [
    {
     "data": {
      "text/plain": [
       "1511.648681640625"
      ]
     },
     "execution_count": 75,
     "metadata": {},
     "output_type": "execute_result"
    }
   ],
   "source": [
    "idx.avg_doc_length()"
   ]
  },
  {
   "cell_type": "code",
   "execution_count": 76,
   "id": "022b1556",
   "metadata": {},
   "outputs": [
    {
     "data": {
      "text/plain": [
       "111862"
      ]
     },
     "execution_count": 76,
     "metadata": {},
     "output_type": "execute_result"
    }
   ],
   "source": [
    "idx.total_corpus_terms()"
   ]
  },
  {
   "cell_type": "code",
   "execution_count": 77,
   "id": "08c18855",
   "metadata": {},
   "outputs": [],
   "source": [
    "ranker = metapy.index.OkapiBM25()"
   ]
  },
  {
   "cell_type": "code",
   "execution_count": 89,
   "id": "716cc69a",
   "metadata": {},
   "outputs": [],
   "source": [
    "query = metapy.index.Document()\n",
    "query.content('PLSA')"
   ]
  },
  {
   "cell_type": "code",
   "execution_count": 90,
   "id": "80adda8f",
   "metadata": {},
   "outputs": [
    {
     "data": {
      "text/plain": [
       "[(68, 6.3648810386657715), (67, 5.483545780181885), (73, 5.0520219802856445)]"
      ]
     },
     "execution_count": 90,
     "metadata": {},
     "output_type": "execute_result"
    }
   ],
   "source": [
    "top_docs = ranker.score(idx, query, num_results=5)\n",
    "top_docs"
   ]
  },
  {
   "cell_type": "code",
   "execution_count": 91,
   "id": "b2ea6814",
   "metadata": {},
   "outputs": [
    {
     "ename": "TypeError",
     "evalue": "get(): incompatible function arguments. The following argument types are supported:\n    1. (self: metapy.metapy.index.Metadata, arg0: str) -> object\n\nInvoked with: <metapy.metapy.index.Metadata object at 0x7f98752790f0>",
     "output_type": "error",
     "traceback": [
      "\u001b[0;31m---------------------------------------------------------------------------\u001b[0m",
      "\u001b[0;31mTypeError\u001b[0m                                 Traceback (most recent call last)",
      "\u001b[0;32m<ipython-input-91-d0ea815db8ae>\u001b[0m in \u001b[0;36m<module>\u001b[0;34m()\u001b[0m\n\u001b[1;32m      1\u001b[0m \u001b[0;32mfor\u001b[0m \u001b[0mnum\u001b[0m\u001b[0;34m,\u001b[0m \u001b[0;34m(\u001b[0m\u001b[0md_id\u001b[0m\u001b[0;34m,\u001b[0m \u001b[0m_\u001b[0m\u001b[0;34m)\u001b[0m \u001b[0;32min\u001b[0m \u001b[0menumerate\u001b[0m\u001b[0;34m(\u001b[0m\u001b[0mtop_docs\u001b[0m\u001b[0;34m)\u001b[0m\u001b[0;34m:\u001b[0m\u001b[0;34m\u001b[0m\u001b[0m\n\u001b[0;32m----> 2\u001b[0;31m     \u001b[0mprint\u001b[0m\u001b[0;34m(\u001b[0m\u001b[0midx\u001b[0m\u001b[0;34m.\u001b[0m\u001b[0mmetadata\u001b[0m\u001b[0;34m(\u001b[0m\u001b[0md_id\u001b[0m\u001b[0;34m)\u001b[0m\u001b[0;34m.\u001b[0m\u001b[0mget\u001b[0m\u001b[0;34m(\u001b[0m\u001b[0;34m)\u001b[0m\u001b[0;34m)\u001b[0m\u001b[0;34m\u001b[0m\u001b[0m\n\u001b[0m",
      "\u001b[0;31mTypeError\u001b[0m: get(): incompatible function arguments. The following argument types are supported:\n    1. (self: metapy.metapy.index.Metadata, arg0: str) -> object\n\nInvoked with: <metapy.metapy.index.Metadata object at 0x7f98752790f0>"
     ]
    }
   ],
   "source": [
    "for num, (d_id, _) in enumerate(top_docs):\n",
    "    print(idx.metadata(d_id).get(;))\n"
   ]
  },
  {
   "cell_type": "code",
   "execution_count": 54,
   "id": "33b669e8",
   "metadata": {},
   "outputs": [
    {
     "name": "stdout",
     "output_type": "stream",
     "text": [
      "/Users/kartikpatel/Desktop/CS 410/Final Project/CourseProject/courseera_video_lessons.csv\n"
     ]
    }
   ],
   "source": [
    "stri = '/Users/kartikpatel/Desktop/CS 410/Final Project/CourseProject/courseera_video_lessons.csv'\n",
    "print(stri)"
   ]
  },
  {
   "cell_type": "code",
   "execution_count": 55,
   "id": "1762d0e7",
   "metadata": {},
   "outputs": [
    {
     "name": "stdout",
     "output_type": "stream",
     "text": [
      "61\n"
     ]
    }
   ],
   "source": [
    "print(stri.rfind('/'))"
   ]
  },
  {
   "cell_type": "code",
   "execution_count": 57,
   "id": "c8ae16c9",
   "metadata": {},
   "outputs": [
    {
     "name": "stdout",
     "output_type": "stream",
     "text": [
      "/Users/kartikpatel/Desktop/CS 410/Final Project/CourseProject/\n"
     ]
    }
   ],
   "source": [
    "print(stri[0: stri.rfind('/')+1])"
   ]
  },
  {
   "cell_type": "code",
   "execution_count": null,
   "id": "bf38fbd4",
   "metadata": {},
   "outputs": [],
   "source": []
  }
 ],
 "metadata": {
  "kernelspec": {
   "display_name": "Python 3",
   "language": "python",
   "name": "python3"
  },
  "language_info": {
   "codemirror_mode": {
    "name": "ipython",
    "version": 3
   },
   "file_extension": ".py",
   "mimetype": "text/x-python",
   "name": "python",
   "nbconvert_exporter": "python",
   "pygments_lexer": "ipython3",
   "version": "3.5.6"
  }
 },
 "nbformat": 4,
 "nbformat_minor": 5
}
