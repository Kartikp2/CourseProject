{
 "cells": [
  {
   "cell_type": "code",
   "execution_count": 2,
   "id": "e7bb6dc1",
   "metadata": {},
   "outputs": [],
   "source": [
    "import math\n",
    "import metapy\n",
    "import pytoml\n",
    "import csv\n",
    "import pandas as pd\n",
    "import os\n",
    "import shutil\n"
   ]
  },
  {
   "cell_type": "code",
   "execution_count": 8,
   "id": "980942a7",
   "metadata": {},
   "outputs": [
    {
     "ename": "EmptyDataError",
     "evalue": "No columns to parse from file",
     "output_type": "error",
     "traceback": [
      "\u001b[0;31m---------------------------------------------------------------------------\u001b[0m",
      "\u001b[0;31mEmptyDataError\u001b[0m                            Traceback (most recent call last)",
      "\u001b[0;32m<ipython-input-8-7fe96f7c69c3>\u001b[0m in \u001b[0;36m<module>\u001b[0;34m()\u001b[0m\n\u001b[0;32m----> 1\u001b[0;31m \u001b[0mdf1\u001b[0m \u001b[0;34m=\u001b[0m \u001b[0mpd\u001b[0m\u001b[0;34m.\u001b[0m\u001b[0mread_csv\u001b[0m\u001b[0;34m(\u001b[0m\u001b[0;34m'/Users/kartikpatel/Desktop/CS 410/Final Project/CourseProject/courseera_video_segments.csv'\u001b[0m\u001b[0;34m)\u001b[0m\u001b[0;34m\u001b[0m\u001b[0m\n\u001b[0m\u001b[1;32m      2\u001b[0m \u001b[0;31m#df1.to_csv(path_or_buf='/Users/kartikpatel/Desktop/CS 410/Final Project/CourseProject/courseera_video_segments.csv', sep='~')\u001b[0m\u001b[0;34m\u001b[0m\u001b[0;34m\u001b[0m\u001b[0m\n\u001b[1;32m      3\u001b[0m \u001b[0mprint\u001b[0m\u001b[0;34m(\u001b[0m\u001b[0mdf1\u001b[0m\u001b[0;34m)\u001b[0m\u001b[0;34m\u001b[0m\u001b[0m\n",
      "\u001b[0;32m/Users/kartikpatel/opt/anaconda3/envs/py35/lib/python3.5/site-packages/pandas/io/parsers.py\u001b[0m in \u001b[0;36mparser_f\u001b[0;34m(filepath_or_buffer, sep, delimiter, header, names, index_col, usecols, squeeze, prefix, mangle_dupe_cols, dtype, engine, converters, true_values, false_values, skipinitialspace, skiprows, skipfooter, nrows, na_values, keep_default_na, na_filter, verbose, skip_blank_lines, parse_dates, infer_datetime_format, keep_date_col, date_parser, dayfirst, cache_dates, iterator, chunksize, compression, thousands, decimal, lineterminator, quotechar, quoting, doublequote, escapechar, comment, encoding, dialect, error_bad_lines, warn_bad_lines, delim_whitespace, low_memory, memory_map, float_precision)\u001b[0m\n\u001b[1;32m    683\u001b[0m         )\n\u001b[1;32m    684\u001b[0m \u001b[0;34m\u001b[0m\u001b[0m\n\u001b[0;32m--> 685\u001b[0;31m         \u001b[0;32mreturn\u001b[0m \u001b[0m_read\u001b[0m\u001b[0;34m(\u001b[0m\u001b[0mfilepath_or_buffer\u001b[0m\u001b[0;34m,\u001b[0m \u001b[0mkwds\u001b[0m\u001b[0;34m)\u001b[0m\u001b[0;34m\u001b[0m\u001b[0m\n\u001b[0m\u001b[1;32m    686\u001b[0m \u001b[0;34m\u001b[0m\u001b[0m\n\u001b[1;32m    687\u001b[0m     \u001b[0mparser_f\u001b[0m\u001b[0;34m.\u001b[0m\u001b[0m__name__\u001b[0m \u001b[0;34m=\u001b[0m \u001b[0mname\u001b[0m\u001b[0;34m\u001b[0m\u001b[0m\n",
      "\u001b[0;32m/Users/kartikpatel/opt/anaconda3/envs/py35/lib/python3.5/site-packages/pandas/io/parsers.py\u001b[0m in \u001b[0;36m_read\u001b[0;34m(filepath_or_buffer, kwds)\u001b[0m\n\u001b[1;32m    455\u001b[0m \u001b[0;34m\u001b[0m\u001b[0m\n\u001b[1;32m    456\u001b[0m     \u001b[0;31m# Create the parser.\u001b[0m\u001b[0;34m\u001b[0m\u001b[0;34m\u001b[0m\u001b[0m\n\u001b[0;32m--> 457\u001b[0;31m     \u001b[0mparser\u001b[0m \u001b[0;34m=\u001b[0m \u001b[0mTextFileReader\u001b[0m\u001b[0;34m(\u001b[0m\u001b[0mfp_or_buf\u001b[0m\u001b[0;34m,\u001b[0m \u001b[0;34m**\u001b[0m\u001b[0mkwds\u001b[0m\u001b[0;34m)\u001b[0m\u001b[0;34m\u001b[0m\u001b[0m\n\u001b[0m\u001b[1;32m    458\u001b[0m \u001b[0;34m\u001b[0m\u001b[0m\n\u001b[1;32m    459\u001b[0m     \u001b[0;32mif\u001b[0m \u001b[0mchunksize\u001b[0m \u001b[0;32mor\u001b[0m \u001b[0miterator\u001b[0m\u001b[0;34m:\u001b[0m\u001b[0;34m\u001b[0m\u001b[0m\n",
      "\u001b[0;32m/Users/kartikpatel/opt/anaconda3/envs/py35/lib/python3.5/site-packages/pandas/io/parsers.py\u001b[0m in \u001b[0;36m__init__\u001b[0;34m(self, f, engine, **kwds)\u001b[0m\n\u001b[1;32m    893\u001b[0m             \u001b[0mself\u001b[0m\u001b[0;34m.\u001b[0m\u001b[0moptions\u001b[0m\u001b[0;34m[\u001b[0m\u001b[0;34m\"has_index_names\"\u001b[0m\u001b[0;34m]\u001b[0m \u001b[0;34m=\u001b[0m \u001b[0mkwds\u001b[0m\u001b[0;34m[\u001b[0m\u001b[0;34m\"has_index_names\"\u001b[0m\u001b[0;34m]\u001b[0m\u001b[0;34m\u001b[0m\u001b[0m\n\u001b[1;32m    894\u001b[0m \u001b[0;34m\u001b[0m\u001b[0m\n\u001b[0;32m--> 895\u001b[0;31m         \u001b[0mself\u001b[0m\u001b[0;34m.\u001b[0m\u001b[0m_make_engine\u001b[0m\u001b[0;34m(\u001b[0m\u001b[0mself\u001b[0m\u001b[0;34m.\u001b[0m\u001b[0mengine\u001b[0m\u001b[0;34m)\u001b[0m\u001b[0;34m\u001b[0m\u001b[0m\n\u001b[0m\u001b[1;32m    896\u001b[0m \u001b[0;34m\u001b[0m\u001b[0m\n\u001b[1;32m    897\u001b[0m     \u001b[0;32mdef\u001b[0m \u001b[0mclose\u001b[0m\u001b[0;34m(\u001b[0m\u001b[0mself\u001b[0m\u001b[0;34m)\u001b[0m\u001b[0;34m:\u001b[0m\u001b[0;34m\u001b[0m\u001b[0m\n",
      "\u001b[0;32m/Users/kartikpatel/opt/anaconda3/envs/py35/lib/python3.5/site-packages/pandas/io/parsers.py\u001b[0m in \u001b[0;36m_make_engine\u001b[0;34m(self, engine)\u001b[0m\n\u001b[1;32m   1133\u001b[0m     \u001b[0;32mdef\u001b[0m \u001b[0m_make_engine\u001b[0m\u001b[0;34m(\u001b[0m\u001b[0mself\u001b[0m\u001b[0;34m,\u001b[0m \u001b[0mengine\u001b[0m\u001b[0;34m=\u001b[0m\u001b[0;34m\"c\"\u001b[0m\u001b[0;34m)\u001b[0m\u001b[0;34m:\u001b[0m\u001b[0;34m\u001b[0m\u001b[0m\n\u001b[1;32m   1134\u001b[0m         \u001b[0;32mif\u001b[0m \u001b[0mengine\u001b[0m \u001b[0;34m==\u001b[0m \u001b[0;34m\"c\"\u001b[0m\u001b[0;34m:\u001b[0m\u001b[0;34m\u001b[0m\u001b[0m\n\u001b[0;32m-> 1135\u001b[0;31m             \u001b[0mself\u001b[0m\u001b[0;34m.\u001b[0m\u001b[0m_engine\u001b[0m \u001b[0;34m=\u001b[0m \u001b[0mCParserWrapper\u001b[0m\u001b[0;34m(\u001b[0m\u001b[0mself\u001b[0m\u001b[0;34m.\u001b[0m\u001b[0mf\u001b[0m\u001b[0;34m,\u001b[0m \u001b[0;34m**\u001b[0m\u001b[0mself\u001b[0m\u001b[0;34m.\u001b[0m\u001b[0moptions\u001b[0m\u001b[0;34m)\u001b[0m\u001b[0;34m\u001b[0m\u001b[0m\n\u001b[0m\u001b[1;32m   1136\u001b[0m         \u001b[0;32melse\u001b[0m\u001b[0;34m:\u001b[0m\u001b[0;34m\u001b[0m\u001b[0m\n\u001b[1;32m   1137\u001b[0m             \u001b[0;32mif\u001b[0m \u001b[0mengine\u001b[0m \u001b[0;34m==\u001b[0m \u001b[0;34m\"python\"\u001b[0m\u001b[0;34m:\u001b[0m\u001b[0;34m\u001b[0m\u001b[0m\n",
      "\u001b[0;32m/Users/kartikpatel/opt/anaconda3/envs/py35/lib/python3.5/site-packages/pandas/io/parsers.py\u001b[0m in \u001b[0;36m__init__\u001b[0;34m(self, src, **kwds)\u001b[0m\n\u001b[1;32m   1915\u001b[0m         \u001b[0mkwds\u001b[0m\u001b[0;34m[\u001b[0m\u001b[0;34m\"usecols\"\u001b[0m\u001b[0;34m]\u001b[0m \u001b[0;34m=\u001b[0m \u001b[0mself\u001b[0m\u001b[0;34m.\u001b[0m\u001b[0musecols\u001b[0m\u001b[0;34m\u001b[0m\u001b[0m\n\u001b[1;32m   1916\u001b[0m \u001b[0;34m\u001b[0m\u001b[0m\n\u001b[0;32m-> 1917\u001b[0;31m         \u001b[0mself\u001b[0m\u001b[0;34m.\u001b[0m\u001b[0m_reader\u001b[0m \u001b[0;34m=\u001b[0m \u001b[0mparsers\u001b[0m\u001b[0;34m.\u001b[0m\u001b[0mTextReader\u001b[0m\u001b[0;34m(\u001b[0m\u001b[0msrc\u001b[0m\u001b[0;34m,\u001b[0m \u001b[0;34m**\u001b[0m\u001b[0mkwds\u001b[0m\u001b[0;34m)\u001b[0m\u001b[0;34m\u001b[0m\u001b[0m\n\u001b[0m\u001b[1;32m   1918\u001b[0m         \u001b[0mself\u001b[0m\u001b[0;34m.\u001b[0m\u001b[0munnamed_cols\u001b[0m \u001b[0;34m=\u001b[0m \u001b[0mself\u001b[0m\u001b[0;34m.\u001b[0m\u001b[0m_reader\u001b[0m\u001b[0;34m.\u001b[0m\u001b[0munnamed_cols\u001b[0m\u001b[0;34m\u001b[0m\u001b[0m\n\u001b[1;32m   1919\u001b[0m \u001b[0;34m\u001b[0m\u001b[0m\n",
      "\u001b[0;32mpandas/_libs/parsers.pyx\u001b[0m in \u001b[0;36mpandas._libs.parsers.TextReader.__cinit__\u001b[0;34m()\u001b[0m\n",
      "\u001b[0;31mEmptyDataError\u001b[0m: No columns to parse from file"
     ]
    }
   ],
   "source": [
    "df1 = pd.read_csv('/Users/kartikpatel/Desktop/CS 410/Final Project/CourseProject/courseera_video_segments.csv')\n",
    "df1.to_csv(path_or_buf='/Users/kartikpatel/Desktop/CS 410/Final Project/CourseProject/courseera_video_segments_cop.csv', sep='~')\n",
    "print(df1)\n"
   ]
  },
  {
   "cell_type": "code",
   "execution_count": 2,
   "id": "e3fe265c",
   "metadata": {},
   "outputs": [
    {
     "name": "stdout",
     "output_type": "stream",
     "text": [
      "  course_id  week_nbr  video_id  \\\n",
      "0    cs-410         1         1   \n",
      "1    cs-410         1         2   \n",
      "2    cs-410         1         3   \n",
      "3    cs-410         1         4   \n",
      "4    cs-410         1         5   \n",
      "\n",
      "                                             content  \n",
      "0  Hello welcome to CS410 DSO Text Information Sy...  \n",
      "1  [SOUND] >> This lecture is about Natural Langu...  \n",
      "2  [SOUND] In this lecture,we're going to talk ab...  \n",
      "3  [MUSIC] This lecture is aboutthe text retrieva...  \n",
      "4  [SOUND] This lecture is a overview oftext retr...  \n"
     ]
    }
   ],
   "source": [
    "df = pd.read_csv ('/Users/kartikpatel/Desktop/CS 410/Final Project/CourseProject/courseera_video_lessons.csv')\n",
    "print(df.head())"
   ]
  },
  {
   "cell_type": "code",
   "execution_count": 3,
   "id": "f0cb47f6",
   "metadata": {},
   "outputs": [
    {
     "name": "stdout",
     "output_type": "stream",
     "text": [
      "Index(['course_id', 'week_nbr', 'video_id', 'content'], dtype='object')\n"
     ]
    }
   ],
   "source": [
    "print(df.columns)"
   ]
  },
  {
   "cell_type": "code",
   "execution_count": 4,
   "id": "e1cfb536",
   "metadata": {},
   "outputs": [],
   "source": [
    "segcolumns = ['content']"
   ]
  },
  {
   "cell_type": "code",
   "execution_count": 5,
   "id": "5fa04211",
   "metadata": {},
   "outputs": [],
   "source": [
    "new_df_text = pd.DataFrame(df, columns=segcolumns)"
   ]
  },
  {
   "cell_type": "code",
   "execution_count": 6,
   "id": "7d587f63",
   "metadata": {},
   "outputs": [
    {
     "name": "stdout",
     "output_type": "stream",
     "text": [
      "                                               content\n",
      "0    Hello welcome to CS410 DSO Text Information Sy...\n",
      "1    [SOUND] >> This lecture is about Natural Langu...\n",
      "2    [SOUND] In this lecture,we're going to talk ab...\n",
      "3    [MUSIC] This lecture is aboutthe text retrieva...\n",
      "4    [SOUND] This lecture is a overview oftext retr...\n",
      "..                                                 ...\n",
      "275  So, now that we understand that logistic regre...\n",
      "276  Now, we'll take a longer look at using logisti...\n",
      "277  Is a credit card transactionreal or fraudulent...\n",
      "278  So, now we've seen how logistic regression cou...\n",
      "279  So now we'll go ahead and take a look at a ver...\n",
      "\n",
      "[280 rows x 1 columns]\n"
     ]
    }
   ],
   "source": [
    "print(new_df_text)"
   ]
  },
  {
   "cell_type": "code",
   "execution_count": 7,
   "id": "450ef938",
   "metadata": {},
   "outputs": [
    {
     "name": "stdout",
     "output_type": "stream",
     "text": [
      "                                               content\n",
      "0    Hello welcome to CS410 DSO Text Information Sy...\n",
      "1    [SOUND] >> This lecture is about Natural Langu...\n",
      "2    [SOUND] In this lecture,we're going to talk ab...\n",
      "3    [MUSIC] This lecture is aboutthe text retrieva...\n",
      "4    [SOUND] This lecture is a overview oftext retr...\n",
      "..                                                 ...\n",
      "275  So, now that we understand that logistic regre...\n",
      "276  Now, we'll take a longer look at using logisti...\n",
      "277  Is a credit card transactionreal or fraudulent...\n",
      "278  So, now we've seen how logistic regression cou...\n",
      "279  So now we'll go ahead and take a look at a ver...\n",
      "\n",
      "[280 rows x 1 columns]\n"
     ]
    }
   ],
   "source": [
    "print(new_df_text)"
   ]
  },
  {
   "cell_type": "code",
   "execution_count": 8,
   "id": "890d7de4",
   "metadata": {},
   "outputs": [],
   "source": [
    "corpus = []\n",
    "for index, row in df.iterrows():\n",
    "    text = row['content']\n",
    "    corpus.append(text)"
   ]
  },
  {
   "cell_type": "code",
   "execution_count": 9,
   "id": "c53a8c31",
   "metadata": {},
   "outputs": [],
   "source": [
    "with open('course.dat', 'w') as f:\n",
    "    for text in corpus:\n",
    "        f.write(text)\n",
    "        f.write('\\n')"
   ]
  },
  {
   "cell_type": "code",
   "execution_count": 12,
   "id": "5434c2f8",
   "metadata": {},
   "outputs": [
    {
     "name": "stdout",
     "output_type": "stream",
     "text": [
      "<metapy.metapy.index.InvertedIndex object at 0x7ff93b822730>\n"
     ]
    }
   ],
   "source": [
    "idx = metapy.index.make_inverted_index('config.toml')\n",
    "print(idx)"
   ]
  },
  {
   "cell_type": "code",
   "execution_count": 17,
   "id": "95d3614a",
   "metadata": {},
   "outputs": [
    {
     "name": "stdout",
     "output_type": "stream",
     "text": [
      "directory exists:True\n"
     ]
    }
   ],
   "source": [
    "print (\"directory exists:\" + str(os.path.isdir('/Users/kartikpatel/Desktop/CS 410/Final Project/CourseProject/idx')))\n"
   ]
  },
  {
   "cell_type": "code",
   "execution_count": 24,
   "id": "16bf6dac",
   "metadata": {},
   "outputs": [
    {
     "data": {
      "text/plain": [
       "'/Users/kartikpatel/Desktop/CS 410/Final Project/CourseProject/course/course.dat'"
      ]
     },
     "execution_count": 24,
     "metadata": {},
     "output_type": "execute_result"
    }
   ],
   "source": [
    "if os.path.isdir('/Users/kartikpatel/Desktop/CS 410/Final Project/CourseProject/idx'):\n",
    "    path = '/Users/kartikpatel/Desktop/CS 410/Final Project/CourseProject/idx'\n",
    "    shutil.rmtree(path)\n",
    "    \n",
    "src = '/Users/kartikpatel/Desktop/CS 410/Final Project/CourseProject/course.dat'\n",
    "dst = '/Users/kartikpatel/Desktop/CS 410/Final Project/CourseProject/course'\n",
    "\n",
    "shutil.copy2(src,dst)"
   ]
  },
  {
   "cell_type": "code",
   "execution_count": 25,
   "id": "695cea0f",
   "metadata": {},
   "outputs": [],
   "source": [
    "idx = metapy.index.make_inverted_index('config.toml')"
   ]
  },
  {
   "cell_type": "code",
   "execution_count": 26,
   "id": "765cd435",
   "metadata": {},
   "outputs": [
    {
     "data": {
      "text/plain": [
       "280"
      ]
     },
     "execution_count": 26,
     "metadata": {},
     "output_type": "execute_result"
    }
   ],
   "source": [
    "idx.num_docs()"
   ]
  },
  {
   "cell_type": "code",
   "execution_count": 27,
   "id": "525fad82",
   "metadata": {},
   "outputs": [
    {
     "data": {
      "text/plain": [
       "15626"
      ]
     },
     "execution_count": 27,
     "metadata": {},
     "output_type": "execute_result"
    }
   ],
   "source": [
    "idx.unique_terms()"
   ]
  },
  {
   "cell_type": "code",
   "execution_count": 28,
   "id": "02223b41",
   "metadata": {},
   "outputs": [
    {
     "data": {
      "text/plain": [
       "1141.0142822265625"
      ]
     },
     "execution_count": 28,
     "metadata": {},
     "output_type": "execute_result"
    }
   ],
   "source": [
    "idx.avg_doc_length()"
   ]
  },
  {
   "cell_type": "code",
   "execution_count": 29,
   "id": "97fa6e14",
   "metadata": {},
   "outputs": [
    {
     "data": {
      "text/plain": [
       "319484"
      ]
     },
     "execution_count": 29,
     "metadata": {},
     "output_type": "execute_result"
    }
   ],
   "source": [
    "idx.total_corpus_terms()"
   ]
  },
  {
   "cell_type": "code",
   "execution_count": 30,
   "id": "e7f5bb6b",
   "metadata": {},
   "outputs": [],
   "source": [
    "ranker = metapy.index.OkapiBM25()"
   ]
  },
  {
   "cell_type": "code",
   "execution_count": 31,
   "id": "a0d42222",
   "metadata": {},
   "outputs": [],
   "source": [
    "query = metapy.index.Document()\n",
    "query.content('PLSA')"
   ]
  },
  {
   "cell_type": "code",
   "execution_count": 32,
   "id": "f4786836",
   "metadata": {},
   "outputs": [
    {
     "data": {
      "text/plain": [
       "[(68, 8.984014511108398), (67, 7.510433197021484), (73, 6.776474475860596)]"
      ]
     },
     "execution_count": 32,
     "metadata": {},
     "output_type": "execute_result"
    }
   ],
   "source": [
    "top_docs = ranker.score(idx, query, num_results=5)\n",
    "top_docs"
   ]
  },
  {
   "cell_type": "code",
   "execution_count": 33,
   "id": "514c31a6",
   "metadata": {},
   "outputs": [
    {
     "ename": "SyntaxError",
     "evalue": "invalid syntax (<ipython-input-33-42d675f73bab>, line 2)",
     "output_type": "error",
     "traceback": [
      "\u001b[0;36m  File \u001b[0;32m\"<ipython-input-33-42d675f73bab>\"\u001b[0;36m, line \u001b[0;32m2\u001b[0m\n\u001b[0;31m    print(idx.metadata(d_id).get(;))\u001b[0m\n\u001b[0m                                 ^\u001b[0m\n\u001b[0;31mSyntaxError\u001b[0m\u001b[0;31m:\u001b[0m invalid syntax\n"
     ]
    }
   ],
   "source": [
    "for num, (d_id, _) in enumerate(top_docs):\n",
    "    print(idx.metadata(d_id).get(;))\n"
   ]
  },
  {
   "cell_type": "code",
   "execution_count": 34,
   "id": "2d24ffbf",
   "metadata": {},
   "outputs": [
    {
     "name": "stdout",
     "output_type": "stream",
     "text": [
      "/Users/kartikpatel/Desktop/CS 410/Final Project/CourseProject/courseera_video_lessons.csv\n"
     ]
    }
   ],
   "source": [
    "stri = '/Users/kartikpatel/Desktop/CS 410/Final Project/CourseProject/courseera_video_lessons.csv'\n",
    "print(stri)"
   ]
  },
  {
   "cell_type": "code",
   "execution_count": 35,
   "id": "c8a995f4",
   "metadata": {},
   "outputs": [
    {
     "name": "stdout",
     "output_type": "stream",
     "text": [
      "61\n"
     ]
    }
   ],
   "source": [
    "print(stri.rfind('/'))"
   ]
  },
  {
   "cell_type": "code",
   "execution_count": 36,
   "id": "101c478e",
   "metadata": {},
   "outputs": [
    {
     "name": "stdout",
     "output_type": "stream",
     "text": [
      "/Users/kartikpatel/Desktop/CS 410/Final Project/CourseProject/\n"
     ]
    }
   ],
   "source": [
    "print(stri[0: stri.rfind('/')+1])"
   ]
  },
  {
   "cell_type": "code",
   "execution_count": null,
   "id": "e128a926",
   "metadata": {},
   "outputs": [],
   "source": []
  }
 ],
 "metadata": {
  "kernelspec": {
   "display_name": "Python 3",
   "language": "python",
   "name": "python3"
  },
  "language_info": {
   "codemirror_mode": {
    "name": "ipython",
    "version": 3
   },
   "file_extension": ".py",
   "mimetype": "text/x-python",
   "name": "python",
   "nbconvert_exporter": "python",
   "pygments_lexer": "ipython3",
   "version": "3.5.6"
  }
 },
 "nbformat": 4,
 "nbformat_minor": 5
}
