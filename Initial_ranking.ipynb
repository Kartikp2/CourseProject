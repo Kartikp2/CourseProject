{
 "cells": [
  {
   "cell_type": "code",
   "execution_count": 63,
   "id": "69b40707",
   "metadata": {},
   "outputs": [],
   "source": [
    "import math\n",
    "import metapy\n",
    "import pytoml\n",
    "import csv\n",
    "import pandas as pd\n"
   ]
  },
  {
   "cell_type": "code",
   "execution_count": 64,
   "id": "e82a1a29",
   "metadata": {},
   "outputs": [
    {
     "name": "stdout",
     "output_type": "stream",
     "text": [
      "  course_id  week_nbr  video_id  \\\n",
      "0    cs-410         1         1   \n",
      "1    cs-410         1         2   \n",
      "2    cs-410         1         3   \n",
      "3    cs-410         1         4   \n",
      "4    cs-410         1         5   \n",
      "\n",
      "                                             content  \n",
      "0  [SOUND] >> This lecture is about Natural Langu...  \n",
      "1  [SOUND] In this lecture,we're going to talk ab...  \n",
      "2  [MUSIC] This lecture is aboutthe text retrieva...  \n",
      "3  [SOUND] This lecture is a overview oftext retr...  \n",
      "4  [SOUND] This lecture is about thevector space ...  \n"
     ]
    }
   ],
   "source": [
    "df = pd.read_csv ('/Users/kartikpatel/Desktop/CS 410/Final Project/CourseProject/courseera_video_lessons.csv')\n",
    "print(df.head())"
   ]
  },
  {
   "cell_type": "code",
   "execution_count": 65,
   "id": "48802f73",
   "metadata": {},
   "outputs": [
    {
     "name": "stdout",
     "output_type": "stream",
     "text": [
      "Index(['course_id', 'week_nbr', 'video_id', 'content'], dtype='object')\n"
     ]
    }
   ],
   "source": [
    "print(df.columns)"
   ]
  },
  {
   "cell_type": "code",
   "execution_count": 66,
   "id": "25f88308",
   "metadata": {},
   "outputs": [],
   "source": [
    "segcolumns = ['content']"
   ]
  },
  {
   "cell_type": "code",
   "execution_count": 67,
   "id": "f84bc070",
   "metadata": {},
   "outputs": [],
   "source": [
    "new_df_text = pd.DataFrame(df, columns=segcolumns)"
   ]
  },
  {
   "cell_type": "code",
   "execution_count": 68,
   "id": "17516cb1",
   "metadata": {},
   "outputs": [
    {
     "name": "stdout",
     "output_type": "stream",
     "text": [
      "                                              content\n",
      "0   [SOUND] >> This lecture is about Natural Langu...\n",
      "1   [SOUND] In this lecture,we're going to talk ab...\n",
      "2   [MUSIC] This lecture is aboutthe text retrieva...\n",
      "3   [SOUND] This lecture is a overview oftext retr...\n",
      "4   [SOUND] This lecture is about thevector space ...\n",
      "..                                                ...\n",
      "68  [MUSIC] This lecture is aboutevaluation of tex...\n",
      "69  [SOUND] This lecture is about text categorizat...\n",
      "70  [SOUND] This lecture isa continued discussion ...\n",
      "71  [SOUND]This lecture is aboutthe contextual tex...\n",
      "72  This lecture is a summaryof this whole course....\n",
      "\n",
      "[73 rows x 1 columns]\n"
     ]
    }
   ],
   "source": [
    "print(new_df_text)"
   ]
  },
  {
   "cell_type": "code",
   "execution_count": 69,
   "id": "e9d44cb2",
   "metadata": {},
   "outputs": [
    {
     "name": "stdout",
     "output_type": "stream",
     "text": [
      "                                              content\n",
      "0   [SOUND] >> This lecture is about Natural Langu...\n",
      "1   [SOUND] In this lecture,we're going to talk ab...\n",
      "2   [MUSIC] This lecture is aboutthe text retrieva...\n",
      "3   [SOUND] This lecture is a overview oftext retr...\n",
      "4   [SOUND] This lecture is about thevector space ...\n",
      "..                                                ...\n",
      "68  [MUSIC] This lecture is aboutevaluation of tex...\n",
      "69  [SOUND] This lecture is about text categorizat...\n",
      "70  [SOUND] This lecture isa continued discussion ...\n",
      "71  [SOUND]This lecture is aboutthe contextual tex...\n",
      "72  This lecture is a summaryof this whole course....\n",
      "\n",
      "[73 rows x 1 columns]\n"
     ]
    }
   ],
   "source": [
    "print(new_df_text)"
   ]
  },
  {
   "cell_type": "code",
   "execution_count": 70,
   "id": "c8cf2344",
   "metadata": {},
   "outputs": [],
   "source": [
    "corpus = []\n",
    "for index, row in df.iterrows():\n",
    "    text = row['content']\n",
    "    corpus.append(text)"
   ]
  },
  {
   "cell_type": "code",
   "execution_count": 71,
   "id": "312be859",
   "metadata": {},
   "outputs": [],
   "source": [
    "with open('course.dat', 'w') as f:\n",
    "    for text in corpus:\n",
    "        f.write(text)\n",
    "        f.write('\\n')"
   ]
  },
  {
   "cell_type": "code",
   "execution_count": 72,
   "id": "352d213f",
   "metadata": {},
   "outputs": [],
   "source": [
    "idx = metapy.index.make_inverted_index('config.toml')"
   ]
  },
  {
   "cell_type": "code",
   "execution_count": 73,
   "id": "9380ea7a",
   "metadata": {},
   "outputs": [
    {
     "data": {
      "text/plain": [
       "74"
      ]
     },
     "execution_count": 73,
     "metadata": {},
     "output_type": "execute_result"
    }
   ],
   "source": [
    "idx.num_docs()"
   ]
  },
  {
   "cell_type": "code",
   "execution_count": 74,
   "id": "3c9295a6",
   "metadata": {},
   "outputs": [
    {
     "data": {
      "text/plain": [
       "7312"
      ]
     },
     "execution_count": 74,
     "metadata": {},
     "output_type": "execute_result"
    }
   ],
   "source": [
    "idx.unique_terms()"
   ]
  },
  {
   "cell_type": "code",
   "execution_count": 75,
   "id": "22703e7a",
   "metadata": {},
   "outputs": [
    {
     "data": {
      "text/plain": [
       "1511.648681640625"
      ]
     },
     "execution_count": 75,
     "metadata": {},
     "output_type": "execute_result"
    }
   ],
   "source": [
    "idx.avg_doc_length()"
   ]
  },
  {
   "cell_type": "code",
   "execution_count": 76,
   "id": "d3d07c0d",
   "metadata": {},
   "outputs": [
    {
     "data": {
      "text/plain": [
       "111862"
      ]
     },
     "execution_count": 76,
     "metadata": {},
     "output_type": "execute_result"
    }
   ],
   "source": [
    "idx.total_corpus_terms()"
   ]
  },
  {
   "cell_type": "code",
   "execution_count": 77,
   "id": "e34b1ac5",
   "metadata": {},
   "outputs": [],
   "source": [
    "ranker = metapy.index.OkapiBM25()"
   ]
  },
  {
   "cell_type": "code",
   "execution_count": 89,
   "id": "2877b712",
   "metadata": {},
   "outputs": [],
   "source": [
    "query = metapy.index.Document()\n",
    "query.content('PLSA')"
   ]
  },
  {
   "cell_type": "code",
   "execution_count": 90,
   "id": "6cfccd89",
   "metadata": {},
   "outputs": [
    {
     "data": {
      "text/plain": [
       "[(68, 6.3648810386657715), (67, 5.483545780181885), (73, 5.0520219802856445)]"
      ]
     },
     "execution_count": 90,
     "metadata": {},
     "output_type": "execute_result"
    }
   ],
   "source": [
    "top_docs = ranker.score(idx, query, num_results=5)\n",
    "top_docs"
   ]
  },
  {
   "cell_type": "code",
   "execution_count": 91,
   "id": "a0ce899a",
   "metadata": {},
   "outputs": [
    {
     "ename": "TypeError",
     "evalue": "get(): incompatible function arguments. The following argument types are supported:\n    1. (self: metapy.metapy.index.Metadata, arg0: str) -> object\n\nInvoked with: <metapy.metapy.index.Metadata object at 0x7f98752790f0>",
     "output_type": "error",
     "traceback": [
      "\u001b[0;31m---------------------------------------------------------------------------\u001b[0m",
      "\u001b[0;31mTypeError\u001b[0m                                 Traceback (most recent call last)",
      "\u001b[0;32m<ipython-input-91-d0ea815db8ae>\u001b[0m in \u001b[0;36m<module>\u001b[0;34m()\u001b[0m\n\u001b[1;32m      1\u001b[0m \u001b[0;32mfor\u001b[0m \u001b[0mnum\u001b[0m\u001b[0;34m,\u001b[0m \u001b[0;34m(\u001b[0m\u001b[0md_id\u001b[0m\u001b[0;34m,\u001b[0m \u001b[0m_\u001b[0m\u001b[0;34m)\u001b[0m \u001b[0;32min\u001b[0m \u001b[0menumerate\u001b[0m\u001b[0;34m(\u001b[0m\u001b[0mtop_docs\u001b[0m\u001b[0;34m)\u001b[0m\u001b[0;34m:\u001b[0m\u001b[0;34m\u001b[0m\u001b[0m\n\u001b[0;32m----> 2\u001b[0;31m     \u001b[0mprint\u001b[0m\u001b[0;34m(\u001b[0m\u001b[0midx\u001b[0m\u001b[0;34m.\u001b[0m\u001b[0mmetadata\u001b[0m\u001b[0;34m(\u001b[0m\u001b[0md_id\u001b[0m\u001b[0;34m)\u001b[0m\u001b[0;34m.\u001b[0m\u001b[0mget\u001b[0m\u001b[0;34m(\u001b[0m\u001b[0;34m)\u001b[0m\u001b[0;34m)\u001b[0m\u001b[0;34m\u001b[0m\u001b[0m\n\u001b[0m",
      "\u001b[0;31mTypeError\u001b[0m: get(): incompatible function arguments. The following argument types are supported:\n    1. (self: metapy.metapy.index.Metadata, arg0: str) -> object\n\nInvoked with: <metapy.metapy.index.Metadata object at 0x7f98752790f0>"
     ]
    }
   ],
   "source": [
    "for num, (d_id, _) in enumerate(top_docs):\n",
    "    print(idx.metadata(d_id).get(;))\n"
   ]
  },
  {
   "cell_type": "code",
   "execution_count": 54,
   "id": "164a2603",
   "metadata": {},
   "outputs": [
    {
     "name": "stdout",
     "output_type": "stream",
     "text": [
      "/Users/kartikpatel/Desktop/CS 410/Final Project/CourseProject/courseera_video_lessons.csv\n"
     ]
    }
   ],
   "source": [
    "stri = '/Users/kartikpatel/Desktop/CS 410/Final Project/CourseProject/courseera_video_lessons.csv'\n",
    "print(stri)"
   ]
  },
  {
   "cell_type": "code",
   "execution_count": 55,
   "id": "c563940e",
   "metadata": {},
   "outputs": [
    {
     "name": "stdout",
     "output_type": "stream",
     "text": [
      "61\n"
     ]
    }
   ],
   "source": [
    "print(stri.rfind('/'))"
   ]
  },
  {
   "cell_type": "code",
   "execution_count": 57,
   "id": "789b1bf3",
   "metadata": {},
   "outputs": [
    {
     "name": "stdout",
     "output_type": "stream",
     "text": [
      "/Users/kartikpatel/Desktop/CS 410/Final Project/CourseProject/\n"
     ]
    }
   ],
   "source": [
    "print(stri[0: stri.rfind('/')+1])"
   ]
  },
  {
   "cell_type": "code",
   "execution_count": null,
   "id": "24d57462",
   "metadata": {},
   "outputs": [],
   "source": []
  }
 ],
 "metadata": {
  "kernelspec": {
   "display_name": "Python 3",
   "language": "python",
   "name": "python3"
  },
  "language_info": {
   "codemirror_mode": {
    "name": "ipython",
    "version": 3
   },
   "file_extension": ".py",
   "mimetype": "text/x-python",
   "name": "python",
   "nbconvert_exporter": "python",
   "pygments_lexer": "ipython3",
   "version": "3.5.6"
  }
 },
 "nbformat": 4,
 "nbformat_minor": 5
}
