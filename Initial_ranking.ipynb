{
 "cells": [
  {
   "cell_type": "code",
   "execution_count": 1,
   "id": "cee703de",
   "metadata": {},
   "outputs": [],
   "source": [
    "import math\n",
    "import metapy\n",
    "import pytoml\n",
    "import csv\n",
    "import pandas as pd\n"
   ]
  },
  {
   "cell_type": "code",
   "execution_count": 2,
   "id": "d8b19ac0",
   "metadata": {},
   "outputs": [
    {
     "name": "stdout",
     "output_type": "stream",
     "text": [
      "['key', 'course_id', 'week_nbr', 'video_id', 'timeline_start', 'timeline_end', 'segment_nbr', 'segment_link', 'segment_txt']\n"
     ]
    }
   ],
   "source": [
    "with open('/Users/kartikpatel/Desktop/CS 410/Final Project/CourseProject/courseera_video_segments.csv', newline='') as f:\n",
    "    reader = csv.reader(f)\n",
    "    data = list(reader)\n",
    "\n",
    "print(data[0])"
   ]
  },
  {
   "cell_type": "code",
   "execution_count": 3,
   "id": "f0225cf1",
   "metadata": {},
   "outputs": [],
   "source": [
    "\n",
    "df = pd.read_csv ('/Users/kartikpatel/Desktop/CS 410/Final Project/CourseProject/courseera_video_segments.csv')"
   ]
  },
  {
   "cell_type": "code",
   "execution_count": 4,
   "id": "24cb77ad",
   "metadata": {},
   "outputs": [
    {
     "name": "stdout",
     "output_type": "stream",
     "text": [
      "Index(['key', 'course_id', 'week_nbr', 'video_id', 'timeline_start',\n",
      "       'timeline_end', 'segment_nbr', 'segment_link', 'segment_txt'],\n",
      "      dtype='object')\n"
     ]
    }
   ],
   "source": [
    "print(df.columns)"
   ]
  },
  {
   "cell_type": "code",
   "execution_count": 5,
   "id": "93e5effb",
   "metadata": {},
   "outputs": [],
   "source": [
    "segcolumns = ['course_id','segment_txt']"
   ]
  },
  {
   "cell_type": "code",
   "execution_count": 6,
   "id": "c1204c0f",
   "metadata": {},
   "outputs": [],
   "source": [
    "new_df_corse_text = pd.DataFrame(df, columns=segcolumns)"
   ]
  },
  {
   "cell_type": "code",
   "execution_count": 7,
   "id": "9c714964",
   "metadata": {},
   "outputs": [
    {
     "name": "stdout",
     "output_type": "stream",
     "text": [
      "      course_id                                segment_txt\n",
      "0        cs-410                                    [SOUND]\n",
      "1        cs-410  >> This lecture is about Natural Language\n",
      "2        cs-410                       of Content Analysis.\n",
      "3        cs-410              As you see from this picture,\n",
      "4        cs-410              this is really the first step\n",
      "...         ...                                        ...\n",
      "12497    cs-410               that natural next step would\n",
      "12498    cs-410          Thank you for taking this course.\n",
      "12499    cs-410                     I hope you had fun and\n",
      "12500    cs-410          And I look forward to interacting\n",
      "12501    cs-410                                    [MUSIC]\n",
      "\n",
      "[12502 rows x 2 columns]\n"
     ]
    }
   ],
   "source": [
    "print(new_df_corse_text)"
   ]
  },
  {
   "cell_type": "code",
   "execution_count": 8,
   "id": "c5c29d4f",
   "metadata": {},
   "outputs": [],
   "source": [
    "textcolumn = ['segment_txt']\n",
    "new_df_text = pd.DataFrame(df, columns=textcolumn)"
   ]
  },
  {
   "cell_type": "code",
   "execution_count": 9,
   "id": "8d729602",
   "metadata": {},
   "outputs": [
    {
     "name": "stdout",
     "output_type": "stream",
     "text": [
      "                                     segment_txt\n",
      "0                                        [SOUND]\n",
      "1      >> This lecture is about Natural Language\n",
      "2                           of Content Analysis.\n",
      "3                  As you see from this picture,\n",
      "4                  this is really the first step\n",
      "...                                          ...\n",
      "12497               that natural next step would\n",
      "12498          Thank you for taking this course.\n",
      "12499                     I hope you had fun and\n",
      "12500          And I look forward to interacting\n",
      "12501                                    [MUSIC]\n",
      "\n",
      "[12502 rows x 1 columns]\n"
     ]
    }
   ],
   "source": [
    "print(new_df_text)"
   ]
  },
  {
   "cell_type": "code",
   "execution_count": 10,
   "id": "4ec50cad",
   "metadata": {},
   "outputs": [],
   "source": [
    "corpus = []\n",
    "for index, row in df.iterrows():\n",
    "    text = row['segment_txt']\n",
    "    corpus.append(text)"
   ]
  },
  {
   "cell_type": "code",
   "execution_count": 14,
   "id": "6c477a2e",
   "metadata": {},
   "outputs": [],
   "source": [
    "with open('course.dat', 'w') as f:\n",
    "    for text in corpus:\n",
    "        f.write(text)\n",
    "        f.write('\\n')"
   ]
  },
  {
   "cell_type": "code",
   "execution_count": 11,
   "id": "ff5a07d7",
   "metadata": {},
   "outputs": [],
   "source": [
    "idx = metapy.index.make_inverted_index('config.toml')"
   ]
  },
  {
   "cell_type": "code",
   "execution_count": 12,
   "id": "57117d71",
   "metadata": {},
   "outputs": [
    {
     "data": {
      "text/plain": [
       "12502"
      ]
     },
     "execution_count": 12,
     "metadata": {},
     "output_type": "execute_result"
    }
   ],
   "source": [
    "idx.num_docs()"
   ]
  },
  {
   "cell_type": "code",
   "execution_count": 13,
   "id": "e3e5d74a",
   "metadata": {},
   "outputs": [
    {
     "data": {
      "text/plain": [
       "1987"
      ]
     },
     "execution_count": 13,
     "metadata": {},
     "output_type": "execute_result"
    }
   ],
   "source": [
    "idx.unique_terms()"
   ]
  },
  {
   "cell_type": "code",
   "execution_count": 14,
   "id": "0085d865",
   "metadata": {},
   "outputs": [
    {
     "data": {
      "text/plain": [
       "5.623100280761719"
      ]
     },
     "execution_count": 14,
     "metadata": {},
     "output_type": "execute_result"
    }
   ],
   "source": [
    "idx.avg_doc_length()"
   ]
  },
  {
   "cell_type": "code",
   "execution_count": 15,
   "id": "d2ee05e2",
   "metadata": {},
   "outputs": [
    {
     "data": {
      "text/plain": [
       "70300"
      ]
     },
     "execution_count": 15,
     "metadata": {},
     "output_type": "execute_result"
    }
   ],
   "source": [
    "idx.total_corpus_terms()"
   ]
  },
  {
   "cell_type": "code",
   "execution_count": 16,
   "id": "f834feb5",
   "metadata": {},
   "outputs": [],
   "source": [
    "ranker = metapy.index.OkapiBM25()"
   ]
  },
  {
   "cell_type": "code",
   "execution_count": 17,
   "id": "f21aca73",
   "metadata": {},
   "outputs": [],
   "source": [
    "query = metapy.index.Document()\n",
    "query.content('What is PLSA?') "
   ]
  },
  {
   "cell_type": "code",
   "execution_count": 18,
   "id": "9d942c09",
   "metadata": {},
   "outputs": [
    {
     "data": {
      "text/plain": [
       "[(6043, 9.34522819519043),\n",
       " (6082, 9.238581657409668),\n",
       " (820, 9.238581657409668),\n",
       " (753, 7.36001443862915),\n",
       " (2331, 7.36001443862915)]"
      ]
     },
     "execution_count": 18,
     "metadata": {},
     "output_type": "execute_result"
    }
   ],
   "source": [
    "top_docs = ranker.score(idx, query, num_results=5)\n",
    "top_docs"
   ]
  },
  {
   "cell_type": "code",
   "execution_count": 23,
   "id": "f8c04e9e",
   "metadata": {},
   "outputs": [
    {
     "name": "stdout",
     "output_type": "stream",
     "text": [
      "often called PLSA.\n",
      "So the idea of PLSA is\n",
      "before is fixed in PLSA, and\n",
      "As an extension of PLSA model,\n",
      "Note that unlike in PLSA and\n"
     ]
    }
   ],
   "source": [
    "for num, (d_id, _) in enumerate(top_docs):\n",
    "    print(corpus[d_id])"
   ]
  },
  {
   "cell_type": "code",
   "execution_count": 29,
   "id": "68d5fbb5",
   "metadata": {},
   "outputs": [
    {
     "name": "stdout",
     "output_type": "stream",
     "text": [
      "https://www.coursera.org/learn/cs-410/lecture/rLpwp?t=18\n",
      "https://www.coursera.org/learn/cs-410/lecture/rLpwp?t=162\n",
      "https://www.coursera.org/learn/cs-410/lecture/rLpwp?t=407\n",
      "https://www.coursera.org/learn/cs-410/lecture/rLpwp?t=112\n",
      "https://www.coursera.org/learn/cs-410/lecture/rLpwp?t=330\n"
     ]
    }
   ],
   "source": [
    "for num, (d_id, _) in enumerate(top_docs):\n",
    "    print(df.loc[d_id].segment_link)"
   ]
  }
 ],
 "metadata": {
  "kernelspec": {
   "display_name": "Python 3",
   "language": "python",
   "name": "python3"
  },
  "language_info": {
   "codemirror_mode": {
    "name": "ipython",
    "version": 3
   },
   "file_extension": ".py",
   "mimetype": "text/x-python",
   "name": "python",
   "nbconvert_exporter": "python",
   "pygments_lexer": "ipython3",
   "version": "3.5.6"
  }
 },
 "nbformat": 4,
 "nbformat_minor": 5
}
