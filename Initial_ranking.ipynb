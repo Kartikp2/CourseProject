{
 "cells": [
  {
   "cell_type": "code",
   "execution_count": 2,
   "id": "fdd4acc7",
   "metadata": {},
   "outputs": [],
   "source": [
    "import math\n",
    "import metapy\n",
    "import pytoml\n",
    "import csv\n",
    "import pandas as pd\n",
    "import os\n",
    "import shutil\n"
   ]
  },
  {
   "cell_type": "code",
   "execution_count": 10,
   "id": "1cb042dc",
   "metadata": {},
   "outputs": [
    {
     "name": "stdout",
     "output_type": "stream",
     "text": [
      "                      key course_id  week_nbr  video_id  \\\n",
      "0           cs-410_1_11_1    cs-410         1         1   \n",
      "1           cs-410_1_11_2    cs-410         1         1   \n",
      "2           cs-410_1_11_3    cs-410         1         1   \n",
      "3           cs-410_1_11_4    cs-410         1         1   \n",
      "4           cs-410_1_11_5    cs-410         1         1   \n",
      "...                   ...       ...       ...       ...   \n",
      "36686  stat-420_10_39_434  stat-420        10         9   \n",
      "36687  stat-420_10_39_435  stat-420        10         9   \n",
      "36688  stat-420_10_39_436  stat-420        10         9   \n",
      "36689  stat-420_10_39_437  stat-420        10         9   \n",
      "36690  stat-420_10_39_438  stat-420        10         9   \n",
      "\n",
      "                                        video_title timeline_start  \\\n",
      "0                         Course Introduction Video   00:00:00,000   \n",
      "1                         Course Introduction Video   00:00:05,420   \n",
      "2                         Course Introduction Video   00:00:10,840   \n",
      "3                         Course Introduction Video   00:00:12,750   \n",
      "4                         Course Introduction Video   00:00:14,920   \n",
      "...                                             ...            ...   \n",
      "36686  Classification with Logistic Regression in R   00:27:06,625   \n",
      "36687  Classification with Logistic Regression in R   00:27:10,410   \n",
      "36688  Classification with Logistic Regression in R   00:27:12,670   \n",
      "36689  Classification with Logistic Regression in R   00:27:16,995   \n",
      "36690  Classification with Logistic Regression in R   00:27:21,055   \n",
      "\n",
      "       timeline_end  segment_nbr  \\\n",
      "0      00:00:05,420            1   \n",
      "1      00:00:10,840            2   \n",
      "2      00:00:12,750            3   \n",
      "3      00:00:14,920            4   \n",
      "4      00:00:20,050            5   \n",
      "...             ...          ...   \n",
      "36686  00:27:10,410          434   \n",
      "36687  00:27:12,670          435   \n",
      "36688  00:27:16,995          436   \n",
      "36689  00:27:21,055          437   \n",
      "36690  00:27:24,580          438   \n",
      "\n",
      "                                            segment_link  \\\n",
      "0      https://www.coursera.org/learn/cs-410/lecture/...   \n",
      "1      https://www.coursera.org/learn/cs-410/lecture/...   \n",
      "2      https://www.coursera.org/learn/cs-410/lecture/...   \n",
      "3      https://www.coursera.org/learn/cs-410/lecture/...   \n",
      "4      https://www.coursera.org/learn/cs-410/lecture/...   \n",
      "...                                                  ...   \n",
      "36686  https://www.coursera.org/learn/stat-420/lectur...   \n",
      "36687  https://www.coursera.org/learn/stat-420/lectur...   \n",
      "36688  https://www.coursera.org/learn/stat-420/lectur...   \n",
      "36689  https://www.coursera.org/learn/stat-420/lectur...   \n",
      "36690  https://www.coursera.org/learn/stat-420/lectur...   \n",
      "\n",
      "                                             segment_txt  \\\n",
      "0      Hello welcome to CS410 DSO Text Information Sy...   \n",
      "1      This is an online course offered by University...   \n",
      "2                            My name is ChengXiang Zhai.   \n",
      "3                         I also have a nickname, Cheng.   \n",
      "4      I'm a professor of Computer Science at the Uni...   \n",
      "...                                                  ...   \n",
      "36686  so it would potentially allow you to recreate ...   \n",
      "36687                           but a little bit faster.   \n",
      "36688  The trade-off being, it will sort of abstract ...   \n",
      "36689     So, it wouldn't be as useful for illustration,   \n",
      "36690  but I would highly recommend that you look int...   \n",
      "\n",
      "                         pic_name  \n",
      "0            pic_cs-410_1_1_0.jpg  \n",
      "1            pic_cs-410_1_1_0.jpg  \n",
      "2            pic_cs-410_1_1_0.jpg  \n",
      "3            pic_cs-410_1_1_0.jpg  \n",
      "4            pic_cs-410_1_1_0.jpg  \n",
      "...                           ...  \n",
      "36686  pic_stat-420_10_9_1620.jpg  \n",
      "36687  pic_stat-420_10_9_1620.jpg  \n",
      "36688  pic_stat-420_10_9_1620.jpg  \n",
      "36689  pic_stat-420_10_9_1620.jpg  \n",
      "36690  pic_stat-420_10_9_1620.jpg  \n",
      "\n",
      "[36691 rows x 11 columns]\n"
     ]
    }
   ],
   "source": [
    "df1 = pd.read_csv('/Users/kartikpatel/Desktop/CS 410/Final Project/CourseProject/courseera_video_segments.csv')\n",
    "df1.to_csv(path_or_buf='/Users/kartikpatel/Desktop/CS 410/Final Project/CourseProject/courseera_video_segments_copy.csv', sep='~', index=False)\n",
    "print(df1)\n"
   ]
  },
  {
   "cell_type": "code",
   "execution_count": 2,
   "id": "e88f8d64",
   "metadata": {},
   "outputs": [
    {
     "name": "stdout",
     "output_type": "stream",
     "text": [
      "  course_id  week_nbr  video_id  \\\n",
      "0    cs-410         1         1   \n",
      "1    cs-410         1         2   \n",
      "2    cs-410         1         3   \n",
      "3    cs-410         1         4   \n",
      "4    cs-410         1         5   \n",
      "\n",
      "                                             content  \n",
      "0  Hello welcome to CS410 DSO Text Information Sy...  \n",
      "1  [SOUND] >> This lecture is about Natural Langu...  \n",
      "2  [SOUND] In this lecture,we're going to talk ab...  \n",
      "3  [MUSIC] This lecture is aboutthe text retrieva...  \n",
      "4  [SOUND] This lecture is a overview oftext retr...  \n"
     ]
    }
   ],
   "source": [
    "df = pd.read_csv ('/Users/kartikpatel/Desktop/CS 410/Final Project/CourseProject/courseera_video_lessons.csv')\n",
    "print(df.head())"
   ]
  },
  {
   "cell_type": "code",
   "execution_count": 3,
   "id": "0e3f646c",
   "metadata": {},
   "outputs": [
    {
     "name": "stdout",
     "output_type": "stream",
     "text": [
      "Index(['course_id', 'week_nbr', 'video_id', 'content'], dtype='object')\n"
     ]
    }
   ],
   "source": [
    "print(df.columns)"
   ]
  },
  {
   "cell_type": "code",
   "execution_count": 4,
   "id": "7d6ea7e7",
   "metadata": {},
   "outputs": [],
   "source": [
    "segcolumns = ['content']"
   ]
  },
  {
   "cell_type": "code",
   "execution_count": 5,
   "id": "676bafd7",
   "metadata": {},
   "outputs": [],
   "source": [
    "new_df_text = pd.DataFrame(df, columns=segcolumns)"
   ]
  },
  {
   "cell_type": "code",
   "execution_count": 6,
   "id": "4e67819b",
   "metadata": {},
   "outputs": [
    {
     "name": "stdout",
     "output_type": "stream",
     "text": [
      "                                               content\n",
      "0    Hello welcome to CS410 DSO Text Information Sy...\n",
      "1    [SOUND] >> This lecture is about Natural Langu...\n",
      "2    [SOUND] In this lecture,we're going to talk ab...\n",
      "3    [MUSIC] This lecture is aboutthe text retrieva...\n",
      "4    [SOUND] This lecture is a overview oftext retr...\n",
      "..                                                 ...\n",
      "275  So, now that we understand that logistic regre...\n",
      "276  Now, we'll take a longer look at using logisti...\n",
      "277  Is a credit card transactionreal or fraudulent...\n",
      "278  So, now we've seen how logistic regression cou...\n",
      "279  So now we'll go ahead and take a look at a ver...\n",
      "\n",
      "[280 rows x 1 columns]\n"
     ]
    }
   ],
   "source": [
    "print(new_df_text)"
   ]
  },
  {
   "cell_type": "code",
   "execution_count": 7,
   "id": "65f07009",
   "metadata": {},
   "outputs": [
    {
     "name": "stdout",
     "output_type": "stream",
     "text": [
      "                                               content\n",
      "0    Hello welcome to CS410 DSO Text Information Sy...\n",
      "1    [SOUND] >> This lecture is about Natural Langu...\n",
      "2    [SOUND] In this lecture,we're going to talk ab...\n",
      "3    [MUSIC] This lecture is aboutthe text retrieva...\n",
      "4    [SOUND] This lecture is a overview oftext retr...\n",
      "..                                                 ...\n",
      "275  So, now that we understand that logistic regre...\n",
      "276  Now, we'll take a longer look at using logisti...\n",
      "277  Is a credit card transactionreal or fraudulent...\n",
      "278  So, now we've seen how logistic regression cou...\n",
      "279  So now we'll go ahead and take a look at a ver...\n",
      "\n",
      "[280 rows x 1 columns]\n"
     ]
    }
   ],
   "source": [
    "print(new_df_text)"
   ]
  },
  {
   "cell_type": "code",
   "execution_count": 8,
   "id": "020fc987",
   "metadata": {},
   "outputs": [],
   "source": [
    "corpus = []\n",
    "for index, row in df.iterrows():\n",
    "    text = row['content']\n",
    "    corpus.append(text)"
   ]
  },
  {
   "cell_type": "code",
   "execution_count": 9,
   "id": "c2abbc98",
   "metadata": {},
   "outputs": [],
   "source": [
    "with open('course.dat', 'w') as f:\n",
    "    for text in corpus:\n",
    "        f.write(text)\n",
    "        f.write('\\n')"
   ]
  },
  {
   "cell_type": "code",
   "execution_count": 12,
   "id": "5c152a3f",
   "metadata": {},
   "outputs": [
    {
     "name": "stdout",
     "output_type": "stream",
     "text": [
      "<metapy.metapy.index.InvertedIndex object at 0x7ff93b822730>\n"
     ]
    }
   ],
   "source": [
    "idx = metapy.index.make_inverted_index('config.toml')\n",
    "print(idx)"
   ]
  },
  {
   "cell_type": "code",
   "execution_count": 17,
   "id": "d72b607a",
   "metadata": {},
   "outputs": [
    {
     "name": "stdout",
     "output_type": "stream",
     "text": [
      "directory exists:True\n"
     ]
    }
   ],
   "source": [
    "print (\"directory exists:\" + str(os.path.isdir('/Users/kartikpatel/Desktop/CS 410/Final Project/CourseProject/idx')))\n"
   ]
  },
  {
   "cell_type": "code",
   "execution_count": 24,
   "id": "feaa876c",
   "metadata": {},
   "outputs": [
    {
     "data": {
      "text/plain": [
       "'/Users/kartikpatel/Desktop/CS 410/Final Project/CourseProject/course/course.dat'"
      ]
     },
     "execution_count": 24,
     "metadata": {},
     "output_type": "execute_result"
    }
   ],
   "source": [
    "if os.path.isdir('/Users/kartikpatel/Desktop/CS 410/Final Project/CourseProject/idx'):\n",
    "    path = '/Users/kartikpatel/Desktop/CS 410/Final Project/CourseProject/idx'\n",
    "    shutil.rmtree(path)\n",
    "    \n",
    "src = '/Users/kartikpatel/Desktop/CS 410/Final Project/CourseProject/course.dat'\n",
    "dst = '/Users/kartikpatel/Desktop/CS 410/Final Project/CourseProject/course'\n",
    "\n",
    "shutil.copy2(src,dst)"
   ]
  },
  {
   "cell_type": "code",
   "execution_count": 25,
   "id": "bf92aca8",
   "metadata": {},
   "outputs": [],
   "source": [
    "idx = metapy.index.make_inverted_index('config.toml')"
   ]
  },
  {
   "cell_type": "code",
   "execution_count": 26,
   "id": "470aa745",
   "metadata": {},
   "outputs": [
    {
     "data": {
      "text/plain": [
       "280"
      ]
     },
     "execution_count": 26,
     "metadata": {},
     "output_type": "execute_result"
    }
   ],
   "source": [
    "idx.num_docs()"
   ]
  },
  {
   "cell_type": "code",
   "execution_count": 27,
   "id": "04d18757",
   "metadata": {},
   "outputs": [
    {
     "data": {
      "text/plain": [
       "15626"
      ]
     },
     "execution_count": 27,
     "metadata": {},
     "output_type": "execute_result"
    }
   ],
   "source": [
    "idx.unique_terms()"
   ]
  },
  {
   "cell_type": "code",
   "execution_count": 28,
   "id": "a81f88d8",
   "metadata": {},
   "outputs": [
    {
     "data": {
      "text/plain": [
       "1141.0142822265625"
      ]
     },
     "execution_count": 28,
     "metadata": {},
     "output_type": "execute_result"
    }
   ],
   "source": [
    "idx.avg_doc_length()"
   ]
  },
  {
   "cell_type": "code",
   "execution_count": 29,
   "id": "2463f105",
   "metadata": {},
   "outputs": [
    {
     "data": {
      "text/plain": [
       "319484"
      ]
     },
     "execution_count": 29,
     "metadata": {},
     "output_type": "execute_result"
    }
   ],
   "source": [
    "idx.total_corpus_terms()"
   ]
  },
  {
   "cell_type": "code",
   "execution_count": 30,
   "id": "1de1b413",
   "metadata": {},
   "outputs": [],
   "source": [
    "ranker = metapy.index.OkapiBM25()"
   ]
  },
  {
   "cell_type": "code",
   "execution_count": 31,
   "id": "63ece6a3",
   "metadata": {},
   "outputs": [],
   "source": [
    "query = metapy.index.Document()\n",
    "query.content('PLSA')"
   ]
  },
  {
   "cell_type": "code",
   "execution_count": 32,
   "id": "ee427c44",
   "metadata": {},
   "outputs": [
    {
     "data": {
      "text/plain": [
       "[(68, 8.984014511108398), (67, 7.510433197021484), (73, 6.776474475860596)]"
      ]
     },
     "execution_count": 32,
     "metadata": {},
     "output_type": "execute_result"
    }
   ],
   "source": [
    "top_docs = ranker.score(idx, query, num_results=5)\n",
    "top_docs"
   ]
  },
  {
   "cell_type": "code",
   "execution_count": 33,
   "id": "befe8dd6",
   "metadata": {},
   "outputs": [
    {
     "ename": "SyntaxError",
     "evalue": "invalid syntax (<ipython-input-33-42d675f73bab>, line 2)",
     "output_type": "error",
     "traceback": [
      "\u001b[0;36m  File \u001b[0;32m\"<ipython-input-33-42d675f73bab>\"\u001b[0;36m, line \u001b[0;32m2\u001b[0m\n\u001b[0;31m    print(idx.metadata(d_id).get(;))\u001b[0m\n\u001b[0m                                 ^\u001b[0m\n\u001b[0;31mSyntaxError\u001b[0m\u001b[0;31m:\u001b[0m invalid syntax\n"
     ]
    }
   ],
   "source": [
    "for num, (d_id, _) in enumerate(top_docs):\n",
    "    print(idx.metadata(d_id).get(;))\n"
   ]
  },
  {
   "cell_type": "code",
   "execution_count": 34,
   "id": "e5c3b8a9",
   "metadata": {},
   "outputs": [
    {
     "name": "stdout",
     "output_type": "stream",
     "text": [
      "/Users/kartikpatel/Desktop/CS 410/Final Project/CourseProject/courseera_video_lessons.csv\n"
     ]
    }
   ],
   "source": [
    "stri = '/Users/kartikpatel/Desktop/CS 410/Final Project/CourseProject/courseera_video_lessons.csv'\n",
    "print(stri)"
   ]
  },
  {
   "cell_type": "code",
   "execution_count": 35,
   "id": "4a62fe9f",
   "metadata": {},
   "outputs": [
    {
     "name": "stdout",
     "output_type": "stream",
     "text": [
      "61\n"
     ]
    }
   ],
   "source": [
    "print(stri.rfind('/'))"
   ]
  },
  {
   "cell_type": "code",
   "execution_count": 36,
   "id": "48007705",
   "metadata": {},
   "outputs": [
    {
     "name": "stdout",
     "output_type": "stream",
     "text": [
      "/Users/kartikpatel/Desktop/CS 410/Final Project/CourseProject/\n"
     ]
    }
   ],
   "source": [
    "print(stri[0: stri.rfind('/')+1])"
   ]
  },
  {
   "cell_type": "code",
   "execution_count": null,
   "id": "58cdc290",
   "metadata": {},
   "outputs": [],
   "source": []
  }
 ],
 "metadata": {
  "kernelspec": {
   "display_name": "Python 3",
   "language": "python",
   "name": "python3"
  },
  "language_info": {
   "codemirror_mode": {
    "name": "ipython",
    "version": 3
   },
   "file_extension": ".py",
   "mimetype": "text/x-python",
   "name": "python",
   "nbconvert_exporter": "python",
   "pygments_lexer": "ipython3",
   "version": "3.5.6"
  }
 },
 "nbformat": 4,
 "nbformat_minor": 5
}
