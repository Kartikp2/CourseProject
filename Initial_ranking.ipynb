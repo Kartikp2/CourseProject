{
 "cells": [
  {
   "cell_type": "code",
   "execution_count": 1,
   "id": "24b0bb2e",
   "metadata": {},
   "outputs": [],
   "source": [
    "import math\n",
    "import metapy\n",
    "import pytoml\n",
    "import csv\n",
    "import pandas as pd\n"
   ]
  },
  {
   "cell_type": "code",
   "execution_count": 3,
   "id": "2caabfaf",
   "metadata": {},
   "outputs": [
    {
     "name": "stdout",
     "output_type": "stream",
     "text": [
      "['key', 'course_id', 'week_nbr', 'video_id', 'video_title', 'timeline_start', 'timeline_end', 'segment_nbr', 'segment_link', 'segment_txt']\n"
     ]
    }
   ],
   "source": [
    "with open('/Users/kartikpatel/Desktop/CS 410/Final Project/CourseProject/courseera_video_segments.csv', newline='') as f:\n",
    "    reader = csv.reader(f)\n",
    "    data = list(reader)\n",
    "\n",
    "print(data[0])"
   ]
  },
  {
   "cell_type": "code",
   "execution_count": 4,
   "id": "85310cb2",
   "metadata": {},
   "outputs": [],
   "source": [
    "\n",
    "df = pd.read_csv ('/Users/kartikpatel/Desktop/CS 410/Final Project/CourseProject/courseera_video_segments.csv')"
   ]
  },
  {
   "cell_type": "code",
   "execution_count": 5,
   "id": "fef62c18",
   "metadata": {},
   "outputs": [
    {
     "name": "stdout",
     "output_type": "stream",
     "text": [
      "Index(['key', 'course_id', 'week_nbr', 'video_id', 'video_title',\n",
      "       'timeline_start', 'timeline_end', 'segment_nbr', 'segment_link',\n",
      "       'segment_txt'],\n",
      "      dtype='object')\n"
     ]
    }
   ],
   "source": [
    "print(df.columns)"
   ]
  },
  {
   "cell_type": "code",
   "execution_count": 6,
   "id": "4459f435",
   "metadata": {},
   "outputs": [],
   "source": [
    "segcolumns = ['course_id','segment_txt']"
   ]
  },
  {
   "cell_type": "code",
   "execution_count": 7,
   "id": "3f430e48",
   "metadata": {},
   "outputs": [],
   "source": [
    "new_df_corse_text = pd.DataFrame(df, columns=segcolumns)"
   ]
  },
  {
   "cell_type": "code",
   "execution_count": 8,
   "id": "38f692c3",
   "metadata": {},
   "outputs": [
    {
     "name": "stdout",
     "output_type": "stream",
     "text": [
      "      course_id                                        segment_txt\n",
      "0        cs-410                                            [SOUND]\n",
      "1        cs-410  Hello welcome to CS410 DSO Text Information Sy...\n",
      "2        cs-410          >> This lecture is about Natural Language\n",
      "3        cs-410  This is an online course offered by University...\n",
      "4        cs-410                               of Content Analysis.\n",
      "...         ...                                                ...\n",
      "12784    cs-410                So I hope you can use what you have\n",
      "12785    cs-410              applications will benefit society and\n",
      "12786    cs-410             the research community to discover new\n",
      "12787    cs-410                                         Thank you.\n",
      "12788    cs-410                                            [MUSIC]\n",
      "\n",
      "[12789 rows x 2 columns]\n"
     ]
    }
   ],
   "source": [
    "print(new_df_corse_text)"
   ]
  },
  {
   "cell_type": "code",
   "execution_count": 9,
   "id": "af3e38c8",
   "metadata": {},
   "outputs": [],
   "source": [
    "textcolumn = ['segment_txt']\n",
    "new_df_text = pd.DataFrame(df, columns=textcolumn)"
   ]
  },
  {
   "cell_type": "code",
   "execution_count": 10,
   "id": "05742043",
   "metadata": {},
   "outputs": [
    {
     "name": "stdout",
     "output_type": "stream",
     "text": [
      "                                             segment_txt\n",
      "0                                                [SOUND]\n",
      "1      Hello welcome to CS410 DSO Text Information Sy...\n",
      "2              >> This lecture is about Natural Language\n",
      "3      This is an online course offered by University...\n",
      "4                                   of Content Analysis.\n",
      "...                                                  ...\n",
      "12784                So I hope you can use what you have\n",
      "12785              applications will benefit society and\n",
      "12786             the research community to discover new\n",
      "12787                                         Thank you.\n",
      "12788                                            [MUSIC]\n",
      "\n",
      "[12789 rows x 1 columns]\n"
     ]
    }
   ],
   "source": [
    "print(new_df_text)"
   ]
  },
  {
   "cell_type": "code",
   "execution_count": 11,
   "id": "894af04a",
   "metadata": {},
   "outputs": [],
   "source": [
    "corpus = []\n",
    "for index, row in df.iterrows():\n",
    "    text = row['segment_txt']\n",
    "    corpus.append(text)"
   ]
  },
  {
   "cell_type": "code",
   "execution_count": 12,
   "id": "27572dd5",
   "metadata": {},
   "outputs": [],
   "source": [
    "with open('course.dat', 'w') as f:\n",
    "    for text in corpus:\n",
    "        f.write(text)\n",
    "        f.write('\\n')"
   ]
  },
  {
   "cell_type": "code",
   "execution_count": 13,
   "id": "8e011c81",
   "metadata": {},
   "outputs": [],
   "source": [
    "idx = metapy.index.make_inverted_index('config.toml')"
   ]
  },
  {
   "cell_type": "code",
   "execution_count": 14,
   "id": "f1920e14",
   "metadata": {},
   "outputs": [
    {
     "data": {
      "text/plain": [
       "12502"
      ]
     },
     "execution_count": 14,
     "metadata": {},
     "output_type": "execute_result"
    }
   ],
   "source": [
    "idx.num_docs()"
   ]
  },
  {
   "cell_type": "code",
   "execution_count": 15,
   "id": "994a703d",
   "metadata": {},
   "outputs": [
    {
     "data": {
      "text/plain": [
       "1987"
      ]
     },
     "execution_count": 15,
     "metadata": {},
     "output_type": "execute_result"
    }
   ],
   "source": [
    "idx.unique_terms()"
   ]
  },
  {
   "cell_type": "code",
   "execution_count": 16,
   "id": "d4615454",
   "metadata": {},
   "outputs": [
    {
     "data": {
      "text/plain": [
       "5.623100280761719"
      ]
     },
     "execution_count": 16,
     "metadata": {},
     "output_type": "execute_result"
    }
   ],
   "source": [
    "idx.avg_doc_length()"
   ]
  },
  {
   "cell_type": "code",
   "execution_count": 17,
   "id": "958fa38b",
   "metadata": {},
   "outputs": [
    {
     "data": {
      "text/plain": [
       "70300"
      ]
     },
     "execution_count": 17,
     "metadata": {},
     "output_type": "execute_result"
    }
   ],
   "source": [
    "idx.total_corpus_terms()"
   ]
  },
  {
   "cell_type": "code",
   "execution_count": 18,
   "id": "8d836877",
   "metadata": {},
   "outputs": [],
   "source": [
    "ranker = metapy.index.OkapiBM25()"
   ]
  },
  {
   "cell_type": "code",
   "execution_count": 19,
   "id": "9a5346e9",
   "metadata": {},
   "outputs": [],
   "source": [
    "query = metapy.index.Document()\n",
    "query.content('What is PLSA?') "
   ]
  },
  {
   "cell_type": "code",
   "execution_count": 20,
   "id": "2f271ee8",
   "metadata": {},
   "outputs": [
    {
     "data": {
      "text/plain": [
       "[(6043, 9.34522819519043),\n",
       " (6082, 9.238581657409668),\n",
       " (820, 9.238581657409668),\n",
       " (753, 7.36001443862915),\n",
       " (2331, 7.36001443862915)]"
      ]
     },
     "execution_count": 20,
     "metadata": {},
     "output_type": "execute_result"
    }
   ],
   "source": [
    "top_docs = ranker.score(idx, query, num_results=5)\n",
    "top_docs"
   ]
  },
  {
   "cell_type": "code",
   "execution_count": 21,
   "id": "2266176c",
   "metadata": {},
   "outputs": [
    {
     "name": "stdout",
     "output_type": "stream",
     "text": [
      "is you will find the new\n",
      "layout, etc.\n",
      "to do well in the quizzes and exams,\n",
      "So, we would have to give those issues the highest priority,\n",
      "And we generally, need to use a lot of\n"
     ]
    }
   ],
   "source": [
    "for num, (d_id, _) in enumerate(top_docs):\n",
    "    print(corpus[d_id])"
   ]
  },
  {
   "cell_type": "code",
   "execution_count": 22,
   "id": "024d5f79",
   "metadata": {},
   "outputs": [
    {
     "name": "stdout",
     "output_type": "stream",
     "text": [
      "https://www.coursera.org/learn/cs-410/lecture/qkTHD?t=439\n",
      "https://www.coursera.org/learn/cs-410/lecture/qkTHD?t=615\n",
      "https://www.coursera.org/learn/cs-410/lecture/rLpwp?t=2264\n",
      "https://www.coursera.org/learn/cs-410/lecture/rLpwp?t=1961\n",
      "https://www.coursera.org/learn/cs-410/lecture/RnXhr?t=985\n"
     ]
    }
   ],
   "source": [
    "for num, (d_id, _) in enumerate(top_docs):\n",
    "    print(df.loc[d_id].segment_link)"
   ]
  },
  {
   "cell_type": "code",
   "execution_count": 25,
   "id": "d044a286",
   "metadata": {},
   "outputs": [
    {
     "name": "stdout",
     "output_type": "stream",
     "text": [
      "https://www.coursera.org/learn/cs-410/lecture/rLpwp?t=18\n",
      "https://www.coursera.org/learn/cs-410/lecture/rLpwp?t=162\n",
      "https://www.coursera.org/learn/cs-410/lecture/rLpwp?t=407\n",
      "https://www.coursera.org/learn/cs-410/lecture/rLpwp?t=112\n",
      "https://www.coursera.org/learn/cs-410/lecture/rLpwp?t=330\n"
     ]
    }
   ],
   "source": [
    "for num, (d_id, _) in enumerate(top_docs):\n",
    "    print(df.loc[d_id].segment_link)"
   ]
  },
  {
   "cell_type": "code",
   "execution_count": 23,
   "id": "a3db4578",
   "metadata": {},
   "outputs": [],
   "source": [
    "import math\n",
    "import metapy\n",
    "import pytoml\n",
    "import csv\n",
    "import pandas as pd\n",
    "\n",
    "\n",
    "class SearchEngine:\n",
    "    def __init__(self, path, config):\n",
    "        self.path = path\n",
    "        self.idx = metapy.index.make_inverted_index(config)\n",
    "        self.config = config\n",
    "        self.query = metapy.index.Document()\n",
    "        self.ranker = self.ranker(self.config)\n",
    "        \n",
    "    def build_corpus(self):\n",
    "        df = pd.read_csv(self.path)\n",
    "        textcolumn = ['segment_txt'] # ignore the other columns\n",
    "        new_df_text = pd.DataFrame(df, columns=textcolumn)\n",
    "        with open('course.dat', 'w') as f:\n",
    "            for index, row in df.iterrows():\n",
    "                text = row['segment_txt']\n",
    "                f.write(text)\n",
    "                f.write('\\n')\n",
    "        return df\n",
    "\n",
    "    def ranker(self, config):\n",
    "         return metapy.index.OkapiBM25(k1=1.65, b=0.75, k3=2.6)\n",
    "        \n",
    "    def ranker_score(self):\n",
    "        ranker = self.ranker\n",
    "        top_docs = ranker.score(self.idx, self.query, num_results=5)\n",
    "        return top_docs\n",
    "\n",
    "    def query_result(self,text):\n",
    "        self.query.content(text) \n",
    "        top_docs = self.ranker_score()\n",
    "        df = self.build_corpus()\n",
    "        top_links = []\n",
    "        for num, (d_id, _) in enumerate(top_docs):\n",
    "            top_links.append(df.loc[d_id].segment_link)\n",
    "        return top_links"
   ]
  },
  {
   "cell_type": "code",
   "execution_count": 24,
   "id": "445767d8",
   "metadata": {},
   "outputs": [
    {
     "name": "stdout",
     "output_type": "stream",
     "text": [
      "['https://www.coursera.org/learn/cs-410/lecture/qkTHD?t=439', 'https://www.coursera.org/learn/cs-410/lecture/qkTHD?t=615', 'https://www.coursera.org/learn/cs-410/lecture/rLpwp?t=2264', 'https://www.coursera.org/learn/cs-410/lecture/rLpwp?t=1961', 'https://www.coursera.org/learn/cs-410/lecture/RnXhr?t=985']\n"
     ]
    }
   ],
   "source": [
    "q1 = SearchEngine('/Users/kartikpatel/Desktop/CS 410/Final Project/CourseProject/courseera_video_segments.csv', 'config.toml')\n",
    "print(q1.query_result('What is PLSA?'))"
   ]
  },
  {
   "cell_type": "code",
   "execution_count": null,
   "id": "65207906",
   "metadata": {},
   "outputs": [],
   "source": []
  }
 ],
 "metadata": {
  "kernelspec": {
   "display_name": "Python 3",
   "language": "python",
   "name": "python3"
  },
  "language_info": {
   "codemirror_mode": {
    "name": "ipython",
    "version": 3
   },
   "file_extension": ".py",
   "mimetype": "text/x-python",
   "name": "python",
   "nbconvert_exporter": "python",
   "pygments_lexer": "ipython3",
   "version": "3.5.6"
  }
 },
 "nbformat": 4,
 "nbformat_minor": 5
}
