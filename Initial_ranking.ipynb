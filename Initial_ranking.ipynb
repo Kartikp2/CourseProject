{
 "cells": [
  {
   "cell_type": "code",
   "execution_count": 19,
   "id": "a2e49c2c",
   "metadata": {},
   "outputs": [],
   "source": [
    "import math\n",
    "import metapy\n",
    "import pytoml\n",
    "import csv\n",
    "import pandas as pd\n",
    "import os\n",
    "import shutil\n"
   ]
  },
  {
   "cell_type": "code",
   "execution_count": 2,
   "id": "2cef6834",
   "metadata": {},
   "outputs": [
    {
     "name": "stdout",
     "output_type": "stream",
     "text": [
      "  course_id  week_nbr  video_id  \\\n",
      "0    cs-410         1         1   \n",
      "1    cs-410         1         2   \n",
      "2    cs-410         1         3   \n",
      "3    cs-410         1         4   \n",
      "4    cs-410         1         5   \n",
      "\n",
      "                                             content  \n",
      "0  Hello welcome to CS410 DSO Text Information Sy...  \n",
      "1  [SOUND] >> This lecture is about Natural Langu...  \n",
      "2  [SOUND] In this lecture,we're going to talk ab...  \n",
      "3  [MUSIC] This lecture is aboutthe text retrieva...  \n",
      "4  [SOUND] This lecture is a overview oftext retr...  \n"
     ]
    }
   ],
   "source": [
    "df = pd.read_csv ('/Users/kartikpatel/Desktop/CS 410/Final Project/CourseProject/courseera_video_lessons.csv')\n",
    "print(df.head())"
   ]
  },
  {
   "cell_type": "code",
   "execution_count": 3,
   "id": "d22179b6",
   "metadata": {},
   "outputs": [
    {
     "name": "stdout",
     "output_type": "stream",
     "text": [
      "Index(['course_id', 'week_nbr', 'video_id', 'content'], dtype='object')\n"
     ]
    }
   ],
   "source": [
    "print(df.columns)"
   ]
  },
  {
   "cell_type": "code",
   "execution_count": 4,
   "id": "0d440474",
   "metadata": {},
   "outputs": [],
   "source": [
    "segcolumns = ['content']"
   ]
  },
  {
   "cell_type": "code",
   "execution_count": 5,
   "id": "f10adfbc",
   "metadata": {},
   "outputs": [],
   "source": [
    "new_df_text = pd.DataFrame(df, columns=segcolumns)"
   ]
  },
  {
   "cell_type": "code",
   "execution_count": 6,
   "id": "47aed2c2",
   "metadata": {},
   "outputs": [
    {
     "name": "stdout",
     "output_type": "stream",
     "text": [
      "                                               content\n",
      "0    Hello welcome to CS410 DSO Text Information Sy...\n",
      "1    [SOUND] >> This lecture is about Natural Langu...\n",
      "2    [SOUND] In this lecture,we're going to talk ab...\n",
      "3    [MUSIC] This lecture is aboutthe text retrieva...\n",
      "4    [SOUND] This lecture is a overview oftext retr...\n",
      "..                                                 ...\n",
      "275  So, now that we understand that logistic regre...\n",
      "276  Now, we'll take a longer look at using logisti...\n",
      "277  Is a credit card transactionreal or fraudulent...\n",
      "278  So, now we've seen how logistic regression cou...\n",
      "279  So now we'll go ahead and take a look at a ver...\n",
      "\n",
      "[280 rows x 1 columns]\n"
     ]
    }
   ],
   "source": [
    "print(new_df_text)"
   ]
  },
  {
   "cell_type": "code",
   "execution_count": 7,
   "id": "39a219a1",
   "metadata": {},
   "outputs": [
    {
     "name": "stdout",
     "output_type": "stream",
     "text": [
      "                                               content\n",
      "0    Hello welcome to CS410 DSO Text Information Sy...\n",
      "1    [SOUND] >> This lecture is about Natural Langu...\n",
      "2    [SOUND] In this lecture,we're going to talk ab...\n",
      "3    [MUSIC] This lecture is aboutthe text retrieva...\n",
      "4    [SOUND] This lecture is a overview oftext retr...\n",
      "..                                                 ...\n",
      "275  So, now that we understand that logistic regre...\n",
      "276  Now, we'll take a longer look at using logisti...\n",
      "277  Is a credit card transactionreal or fraudulent...\n",
      "278  So, now we've seen how logistic regression cou...\n",
      "279  So now we'll go ahead and take a look at a ver...\n",
      "\n",
      "[280 rows x 1 columns]\n"
     ]
    }
   ],
   "source": [
    "print(new_df_text)"
   ]
  },
  {
   "cell_type": "code",
   "execution_count": 8,
   "id": "b815f9db",
   "metadata": {},
   "outputs": [],
   "source": [
    "corpus = []\n",
    "for index, row in df.iterrows():\n",
    "    text = row['content']\n",
    "    corpus.append(text)"
   ]
  },
  {
   "cell_type": "code",
   "execution_count": 9,
   "id": "b437c21f",
   "metadata": {},
   "outputs": [],
   "source": [
    "with open('course.dat', 'w') as f:\n",
    "    for text in corpus:\n",
    "        f.write(text)\n",
    "        f.write('\\n')"
   ]
  },
  {
   "cell_type": "code",
   "execution_count": 12,
   "id": "58c9ec5e",
   "metadata": {},
   "outputs": [
    {
     "name": "stdout",
     "output_type": "stream",
     "text": [
      "<metapy.metapy.index.InvertedIndex object at 0x7ff93b822730>\n"
     ]
    }
   ],
   "source": [
    "idx = metapy.index.make_inverted_index('config.toml')\n",
    "print(idx)"
   ]
  },
  {
   "cell_type": "code",
   "execution_count": 17,
   "id": "b244aedc",
   "metadata": {},
   "outputs": [
    {
     "name": "stdout",
     "output_type": "stream",
     "text": [
      "directory exists:True\n"
     ]
    }
   ],
   "source": [
    "print (\"directory exists:\" + str(os.path.isdir('/Users/kartikpatel/Desktop/CS 410/Final Project/CourseProject/idx')))\n"
   ]
  },
  {
   "cell_type": "code",
   "execution_count": 24,
   "id": "34b1b66e",
   "metadata": {},
   "outputs": [
    {
     "data": {
      "text/plain": [
       "'/Users/kartikpatel/Desktop/CS 410/Final Project/CourseProject/course/course.dat'"
      ]
     },
     "execution_count": 24,
     "metadata": {},
     "output_type": "execute_result"
    }
   ],
   "source": [
    "if os.path.isdir('/Users/kartikpatel/Desktop/CS 410/Final Project/CourseProject/idx'):\n",
    "    path = '/Users/kartikpatel/Desktop/CS 410/Final Project/CourseProject/idx'\n",
    "    shutil.rmtree(path)\n",
    "    \n",
    "src = '/Users/kartikpatel/Desktop/CS 410/Final Project/CourseProject/course.dat'\n",
    "dst = '/Users/kartikpatel/Desktop/CS 410/Final Project/CourseProject/course'\n",
    "\n",
    "shutil.copy2(src,dst)"
   ]
  },
  {
   "cell_type": "code",
   "execution_count": 25,
   "id": "b87ac6ea",
   "metadata": {},
   "outputs": [],
   "source": [
    "idx = metapy.index.make_inverted_index('config.toml')"
   ]
  },
  {
   "cell_type": "code",
   "execution_count": 26,
   "id": "97577170",
   "metadata": {},
   "outputs": [
    {
     "data": {
      "text/plain": [
       "280"
      ]
     },
     "execution_count": 26,
     "metadata": {},
     "output_type": "execute_result"
    }
   ],
   "source": [
    "idx.num_docs()"
   ]
  },
  {
   "cell_type": "code",
   "execution_count": 27,
   "id": "9c15b071",
   "metadata": {},
   "outputs": [
    {
     "data": {
      "text/plain": [
       "15626"
      ]
     },
     "execution_count": 27,
     "metadata": {},
     "output_type": "execute_result"
    }
   ],
   "source": [
    "idx.unique_terms()"
   ]
  },
  {
   "cell_type": "code",
   "execution_count": 28,
   "id": "aecf6435",
   "metadata": {},
   "outputs": [
    {
     "data": {
      "text/plain": [
       "1141.0142822265625"
      ]
     },
     "execution_count": 28,
     "metadata": {},
     "output_type": "execute_result"
    }
   ],
   "source": [
    "idx.avg_doc_length()"
   ]
  },
  {
   "cell_type": "code",
   "execution_count": 29,
   "id": "2a27cb74",
   "metadata": {},
   "outputs": [
    {
     "data": {
      "text/plain": [
       "319484"
      ]
     },
     "execution_count": 29,
     "metadata": {},
     "output_type": "execute_result"
    }
   ],
   "source": [
    "idx.total_corpus_terms()"
   ]
  },
  {
   "cell_type": "code",
   "execution_count": 30,
   "id": "4b05ef25",
   "metadata": {},
   "outputs": [],
   "source": [
    "ranker = metapy.index.OkapiBM25()"
   ]
  },
  {
   "cell_type": "code",
   "execution_count": 31,
   "id": "9bd2c3b9",
   "metadata": {},
   "outputs": [],
   "source": [
    "query = metapy.index.Document()\n",
    "query.content('PLSA')"
   ]
  },
  {
   "cell_type": "code",
   "execution_count": 32,
   "id": "4c081f3d",
   "metadata": {},
   "outputs": [
    {
     "data": {
      "text/plain": [
       "[(68, 8.984014511108398), (67, 7.510433197021484), (73, 6.776474475860596)]"
      ]
     },
     "execution_count": 32,
     "metadata": {},
     "output_type": "execute_result"
    }
   ],
   "source": [
    "top_docs = ranker.score(idx, query, num_results=5)\n",
    "top_docs"
   ]
  },
  {
   "cell_type": "code",
   "execution_count": 33,
   "id": "fe679ab8",
   "metadata": {},
   "outputs": [
    {
     "ename": "SyntaxError",
     "evalue": "invalid syntax (<ipython-input-33-42d675f73bab>, line 2)",
     "output_type": "error",
     "traceback": [
      "\u001b[0;36m  File \u001b[0;32m\"<ipython-input-33-42d675f73bab>\"\u001b[0;36m, line \u001b[0;32m2\u001b[0m\n\u001b[0;31m    print(idx.metadata(d_id).get(;))\u001b[0m\n\u001b[0m                                 ^\u001b[0m\n\u001b[0;31mSyntaxError\u001b[0m\u001b[0;31m:\u001b[0m invalid syntax\n"
     ]
    }
   ],
   "source": [
    "for num, (d_id, _) in enumerate(top_docs):\n",
    "    print(idx.metadata(d_id).get(;))\n"
   ]
  },
  {
   "cell_type": "code",
   "execution_count": 34,
   "id": "6c651214",
   "metadata": {},
   "outputs": [
    {
     "name": "stdout",
     "output_type": "stream",
     "text": [
      "/Users/kartikpatel/Desktop/CS 410/Final Project/CourseProject/courseera_video_lessons.csv\n"
     ]
    }
   ],
   "source": [
    "stri = '/Users/kartikpatel/Desktop/CS 410/Final Project/CourseProject/courseera_video_lessons.csv'\n",
    "print(stri)"
   ]
  },
  {
   "cell_type": "code",
   "execution_count": 35,
   "id": "648ac0d3",
   "metadata": {},
   "outputs": [
    {
     "name": "stdout",
     "output_type": "stream",
     "text": [
      "61\n"
     ]
    }
   ],
   "source": [
    "print(stri.rfind('/'))"
   ]
  },
  {
   "cell_type": "code",
   "execution_count": 36,
   "id": "6deaf591",
   "metadata": {},
   "outputs": [
    {
     "name": "stdout",
     "output_type": "stream",
     "text": [
      "/Users/kartikpatel/Desktop/CS 410/Final Project/CourseProject/\n"
     ]
    }
   ],
   "source": [
    "print(stri[0: stri.rfind('/')+1])"
   ]
  },
  {
   "cell_type": "code",
   "execution_count": null,
   "id": "fcaf6f40",
   "metadata": {},
   "outputs": [],
   "source": []
  }
 ],
 "metadata": {
  "kernelspec": {
   "display_name": "Python 3",
   "language": "python",
   "name": "python3"
  },
  "language_info": {
   "codemirror_mode": {
    "name": "ipython",
    "version": 3
   },
   "file_extension": ".py",
   "mimetype": "text/x-python",
   "name": "python",
   "nbconvert_exporter": "python",
   "pygments_lexer": "ipython3",
   "version": "3.5.6"
  }
 },
 "nbformat": 4,
 "nbformat_minor": 5
}
